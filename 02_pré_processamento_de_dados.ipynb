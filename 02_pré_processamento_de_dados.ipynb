{
 "cells": [
  {
   "cell_type": "markdown",
   "metadata": {},
   "source": [
    "# Capítulo 2 - Pré-processamento dos dados"
   ]
  },
  {
   "cell_type": "markdown",
   "metadata": {},
   "source": [
    "## Bibliotecas básicas e outras inicializações"
   ]
  },
  {
   "cell_type": "code",
   "execution_count": 1,
   "metadata": {
    "ExecuteTime": {
     "end_time": "2021-04-26T13:44:19.697712Z",
     "start_time": "2021-04-26T13:44:18.751426Z"
    }
   },
   "outputs": [],
   "source": [
    "import pandas as pd\n",
    "import numpy as np\n",
    "import seaborn as sns\n",
    "import matplotlib.pyplot as plt\n",
    "%matplotlib inline\n",
    "\n",
    "import warnings\n",
    "warnings.filterwarnings('ignore')"
   ]
  },
  {
   "cell_type": "markdown",
   "metadata": {},
   "source": [
    "## Carregamento dos dados"
   ]
  },
  {
   "cell_type": "code",
   "execution_count": 2,
   "metadata": {
    "ExecuteTime": {
     "end_time": "2021-04-26T13:44:19.728949Z",
     "start_time": "2021-04-26T13:44:19.700372Z"
    }
   },
   "outputs": [
    {
     "data": {
      "text/html": [
       "<div>\n",
       "<style scoped>\n",
       "    .dataframe tbody tr th:only-of-type {\n",
       "        vertical-align: middle;\n",
       "    }\n",
       "\n",
       "    .dataframe tbody tr th {\n",
       "        vertical-align: top;\n",
       "    }\n",
       "\n",
       "    .dataframe thead th {\n",
       "        text-align: right;\n",
       "    }\n",
       "</style>\n",
       "<table border=\"1\" class=\"dataframe\">\n",
       "  <thead>\n",
       "    <tr style=\"text-align: right;\">\n",
       "      <th></th>\n",
       "      <th>bi_rads</th>\n",
       "      <th>idade</th>\n",
       "      <th>forma_da_massa</th>\n",
       "      <th>contorno_da_massa</th>\n",
       "      <th>densidade_da_massa</th>\n",
       "      <th>severidade</th>\n",
       "    </tr>\n",
       "  </thead>\n",
       "  <tbody>\n",
       "    <tr>\n",
       "      <th>0</th>\n",
       "      <td>5.0</td>\n",
       "      <td>67.0</td>\n",
       "      <td>3.0</td>\n",
       "      <td>5.0</td>\n",
       "      <td>3.0</td>\n",
       "      <td>1</td>\n",
       "    </tr>\n",
       "    <tr>\n",
       "      <th>1</th>\n",
       "      <td>4.0</td>\n",
       "      <td>43.0</td>\n",
       "      <td>1.0</td>\n",
       "      <td>1.0</td>\n",
       "      <td>NaN</td>\n",
       "      <td>1</td>\n",
       "    </tr>\n",
       "    <tr>\n",
       "      <th>2</th>\n",
       "      <td>5.0</td>\n",
       "      <td>58.0</td>\n",
       "      <td>4.0</td>\n",
       "      <td>5.0</td>\n",
       "      <td>3.0</td>\n",
       "      <td>1</td>\n",
       "    </tr>\n",
       "    <tr>\n",
       "      <th>3</th>\n",
       "      <td>4.0</td>\n",
       "      <td>28.0</td>\n",
       "      <td>1.0</td>\n",
       "      <td>1.0</td>\n",
       "      <td>3.0</td>\n",
       "      <td>0</td>\n",
       "    </tr>\n",
       "    <tr>\n",
       "      <th>4</th>\n",
       "      <td>5.0</td>\n",
       "      <td>74.0</td>\n",
       "      <td>1.0</td>\n",
       "      <td>5.0</td>\n",
       "      <td>NaN</td>\n",
       "      <td>1</td>\n",
       "    </tr>\n",
       "  </tbody>\n",
       "</table>\n",
       "</div>"
      ],
      "text/plain": [
       "   bi_rads  idade  forma_da_massa  contorno_da_massa  densidade_da_massa  \\\n",
       "0      5.0   67.0             3.0                5.0                 3.0   \n",
       "1      4.0   43.0             1.0                1.0                 NaN   \n",
       "2      5.0   58.0             4.0                5.0                 3.0   \n",
       "3      4.0   28.0             1.0                1.0                 3.0   \n",
       "4      5.0   74.0             1.0                5.0                 NaN   \n",
       "\n",
       "   severidade  \n",
       "0           1  \n",
       "1           1  \n",
       "2           1  \n",
       "3           0  \n",
       "4           1  "
      ]
     },
     "execution_count": 2,
     "metadata": {},
     "output_type": "execute_result"
    }
   ],
   "source": [
    "dados = pd.read_csv('./datasets/mammographic_masses.data', \n",
    "                    names=['bi_rads', 'idade', 'forma_da_massa', 'contorno_da_massa', 'densidade_da_massa', 'severidade'], \n",
    "                    na_values='?')\n",
    "dados.head()"
   ]
  },
  {
   "cell_type": "code",
   "execution_count": 3,
   "metadata": {
    "ExecuteTime": {
     "end_time": "2021-04-26T13:44:20.097378Z",
     "start_time": "2021-04-26T13:44:19.733480Z"
    }
   },
   "outputs": [
    {
     "name": "stdout",
     "output_type": "stream",
     "text": [
      "Linhas: 961 | Colunas: 6\n"
     ]
    }
   ],
   "source": [
    "print(f'Linhas: {dados.shape[0]} | Colunas: {dados.shape[1]}')"
   ]
  },
  {
   "cell_type": "code",
   "execution_count": 4,
   "metadata": {
    "ExecuteTime": {
     "end_time": "2021-04-26T13:44:20.652283Z",
     "start_time": "2021-04-26T13:44:20.107256Z"
    }
   },
   "outputs": [
    {
     "name": "stdout",
     "output_type": "stream",
     "text": [
      "<class 'pandas.core.frame.DataFrame'>\n",
      "RangeIndex: 961 entries, 0 to 960\n",
      "Data columns (total 6 columns):\n",
      " #   Column              Non-Null Count  Dtype  \n",
      "---  ------              --------------  -----  \n",
      " 0   bi_rads             959 non-null    float64\n",
      " 1   idade               956 non-null    float64\n",
      " 2   forma_da_massa      930 non-null    float64\n",
      " 3   contorno_da_massa   913 non-null    float64\n",
      " 4   densidade_da_massa  885 non-null    float64\n",
      " 5   severidade          961 non-null    int64  \n",
      "dtypes: float64(5), int64(1)\n",
      "memory usage: 45.2 KB\n"
     ]
    }
   ],
   "source": [
    "dados.info()"
   ]
  },
  {
   "cell_type": "markdown",
   "metadata": {},
   "source": [
    "### Dicionário dos dados"
   ]
  },
  {
   "cell_type": "markdown",
   "metadata": {},
   "source": [
    "**bi_rads**: sistema de clasificação adotado para estimar qual a chance de determinada imagem da mamografia ser câncer.{0-6}(float)\n",
    "\n",
    "**idade**: idade do paciente em anos.(float)\n",
    "\n",
    "**forma_da_massa**: {redonda=1, ovular=2, lobular=3, irregular=4}(float)\n",
    "\n",
    "**contorno_da_massa**: {circunscrita=1, microlobulada=2, obscura=3, mal definida=4, especulada=5}(float)\n",
    "\n",
    "**densidade_da_massa**: {alta=1, iso=2, baixa=3, gordurosa=4}(float)\n",
    "\n",
    "**severidade**: {benigno=0, maligno=1}(inteiro)"
   ]
  },
  {
   "cell_type": "markdown",
   "metadata": {},
   "source": [
    "## Limpeza da base"
   ]
  },
  {
   "cell_type": "markdown",
   "metadata": {},
   "source": [
    "### Valores ausentes"
   ]
  },
  {
   "cell_type": "markdown",
   "metadata": {},
   "source": [
    "#### Ignorar o objeto"
   ]
  },
  {
   "cell_type": "code",
   "execution_count": 5,
   "metadata": {
    "ExecuteTime": {
     "end_time": "2021-04-26T13:44:21.062919Z",
     "start_time": "2021-04-26T13:44:20.655566Z"
    }
   },
   "outputs": [
    {
     "name": "stdout",
     "output_type": "stream",
     "text": [
      "Antes: (961, 6)\n",
      "Depois: (830, 6)\n"
     ]
    }
   ],
   "source": [
    "dados_copy = dados.copy()\n",
    "print(f'Antes: {dados_copy.shape}')\n",
    "dados_copy.dropna(inplace=True)\n",
    "print(f'Depois: {dados_copy.shape}')"
   ]
  },
  {
   "cell_type": "code",
   "execution_count": 6,
   "metadata": {
    "ExecuteTime": {
     "end_time": "2021-04-26T13:44:21.229216Z",
     "start_time": "2021-04-26T13:44:21.069340Z"
    }
   },
   "outputs": [
    {
     "name": "stdout",
     "output_type": "stream",
     "text": [
      "Foram removidos 13.63% da base\n"
     ]
    }
   ],
   "source": [
    "print(f'Foram removidos {round((961-830)*100/961, 2)}% da base')"
   ]
  },
  {
   "cell_type": "markdown",
   "metadata": {
    "ExecuteTime": {
     "end_time": "2021-04-20T12:52:17.776970Z",
     "start_time": "2021-04-20T12:52:17.773863Z"
    }
   },
   "source": [
    "#### Imputar manualmente os valores ausentes"
   ]
  },
  {
   "cell_type": "code",
   "execution_count": 7,
   "metadata": {
    "ExecuteTime": {
     "end_time": "2021-04-26T13:44:21.440836Z",
     "start_time": "2021-04-26T13:44:21.233392Z"
    }
   },
   "outputs": [
    {
     "name": "stdout",
     "output_type": "stream",
     "text": [
      "Total de dados ausentes na coluna densidade_da_massa:  76\n",
      "Total de dados ausentes na coluna densidade_da_massa:  0\n"
     ]
    }
   ],
   "source": [
    "dados_copy = dados.copy()\n",
    "print('Total de dados ausentes na coluna densidade_da_massa: ', dados_copy['densidade_da_massa'].isnull().sum())\n",
    "dados_copy['densidade_da_massa'].fillna(1, inplace=True)\n",
    "print('Total de dados ausentes na coluna densidade_da_massa: ', dados_copy['densidade_da_massa'].isnull().sum())"
   ]
  },
  {
   "cell_type": "markdown",
   "metadata": {},
   "source": [
    "#### Imputar de acordo com a última observação (last observation carried forward)"
   ]
  },
  {
   "cell_type": "code",
   "execution_count": 8,
   "metadata": {
    "ExecuteTime": {
     "end_time": "2021-04-26T13:44:21.843610Z",
     "start_time": "2021-04-26T13:44:21.445069Z"
    }
   },
   "outputs": [
    {
     "name": "stdout",
     "output_type": "stream",
     "text": [
      "Total de dados ausentes na coluna contorno_da_massa:  48\n",
      "Total de dados ausentes na coluna contorno_da_massa:  0\n"
     ]
    }
   ],
   "source": [
    "dados_copy = dados.copy()\n",
    "print('Total de dados ausentes na coluna contorno_da_massa: ', dados_copy['contorno_da_massa'].isnull().sum())\n",
    "dados_copy['contorno_da_massa'].fillna(method='ffill', inplace=True)\n",
    "print('Total de dados ausentes na coluna contorno_da_massa: ', dados_copy['contorno_da_massa'].isnull().sum())"
   ]
  },
  {
   "cell_type": "markdown",
   "metadata": {},
   "source": [
    "#### Imputação do tipo hot-deck"
   ]
  },
  {
   "cell_type": "code",
   "execution_count": 9,
   "metadata": {
    "ExecuteTime": {
     "end_time": "2021-04-26T13:44:22.318812Z",
     "start_time": "2021-04-26T13:44:21.847726Z"
    }
   },
   "outputs": [
    {
     "name": "stdout",
     "output_type": "stream",
     "text": [
      "Total de dados ausentes na coluna idade:  5\n",
      "Total de dados ausentes na coluna idade:  0\n"
     ]
    }
   ],
   "source": [
    "from sklearn.impute import KNNImputer\n",
    "\n",
    "imputer = KNNImputer(n_neighbors=5, weights='distance')\n",
    "dados_copy = dados.copy()\n",
    "\n",
    "print('Total de dados ausentes na coluna idade: ', dados_copy['idade'].isnull().sum())\n",
    "dados_copy['idade'] = imputer.fit_transform(dados_copy[['idade']])\n",
    "print('Total de dados ausentes na coluna idade: ', dados_copy['idade'].isnull().sum())"
   ]
  },
  {
   "cell_type": "markdown",
   "metadata": {},
   "source": [
    "#### Imputação com média, mediana ou moda"
   ]
  },
  {
   "cell_type": "code",
   "execution_count": 10,
   "metadata": {
    "ExecuteTime": {
     "end_time": "2021-04-26T13:44:22.559194Z",
     "start_time": "2021-04-26T13:44:22.322603Z"
    }
   },
   "outputs": [],
   "source": [
    "dados_copy = dados.copy()\n",
    "dados_copy['idade'] = dados_copy['idade'].fillna(dados_copy['idade'].mean())\n",
    "dados_copy['contorno_da_massa'] = dados_copy['contorno_da_massa'].fillna(dados_copy['contorno_da_massa'].median())"
   ]
  },
  {
   "cell_type": "markdown",
   "metadata": {},
   "source": [
    "#### Imputação com média, mediana ou moda de objetos da mesma classe"
   ]
  },
  {
   "cell_type": "code",
   "execution_count": 11,
   "metadata": {
    "ExecuteTime": {
     "end_time": "2021-04-26T13:44:22.815981Z",
     "start_time": "2021-04-26T13:44:22.564762Z"
    }
   },
   "outputs": [],
   "source": [
    "dados_copy = dados.copy()\n",
    "dados_copy['idade'] = dados_copy['idade'].fillna(dados_copy[dados_copy['severidade']==0]['idade'].mean())\n",
    "dados_copy['idade'] = dados_copy['idade'].fillna(dados_copy[dados_copy['severidade']==1]['idade'].mean())"
   ]
  },
  {
   "cell_type": "markdown",
   "metadata": {
    "ExecuteTime": {
     "end_time": "2021-04-21T11:44:18.321797Z",
     "start_time": "2021-04-21T11:44:18.312928Z"
    }
   },
   "source": [
    "#### Usando modelos preditivos"
   ]
  },
  {
   "cell_type": "code",
   "execution_count": 12,
   "metadata": {
    "ExecuteTime": {
     "end_time": "2021-04-26T13:44:23.135403Z",
     "start_time": "2021-04-26T13:44:22.823205Z"
    }
   },
   "outputs": [],
   "source": [
    "from sklearn.tree import DecisionTreeClassifier\n",
    "\n",
    "dados_copy = dados.copy()\n",
    "\n",
    "test = dados_copy[dados_copy['idade'].isnull()]\n",
    "test.drop(['idade'], 1, inplace=True)\n",
    "dados_copy.dropna(inplace=True)\n",
    "\n",
    "X = dados_copy.drop(['idade'], 1)\n",
    "y = dados_copy['idade']\n",
    "\n",
    "\n",
    "model = DecisionTreeClassifier()\n",
    "model.fit(X, y)\n",
    "nova_idade = model.predict(test)\n",
    "test['idade'] = nova_idade\n",
    "\n",
    "dados_copy = dados.copy()\n",
    "dados_copy['idade'].fillna(value=test['idade'], inplace=True)"
   ]
  },
  {
   "cell_type": "markdown",
   "metadata": {},
   "source": [
    "#### Tratando valores ausentes na base original"
   ]
  },
  {
   "cell_type": "code",
   "execution_count": 13,
   "metadata": {
    "ExecuteTime": {
     "end_time": "2021-04-26T13:44:23.357245Z",
     "start_time": "2021-04-26T13:44:23.138825Z"
    }
   },
   "outputs": [
    {
     "name": "stdout",
     "output_type": "stream",
     "text": [
      "Valores nulos na base: \n",
      "bi_rads               0\n",
      "idade                 0\n",
      "forma_da_massa        0\n",
      "contorno_da_massa     0\n",
      "densidade_da_massa    0\n",
      "severidade            0\n",
      "dtype: int64\n"
     ]
    }
   ],
   "source": [
    "for col in dados.iloc[:, 0:5].columns:\n",
    "    dados[col].fillna(method='ffill', inplace=True)\n",
    "    \n",
    "print(f'Valores nulos na base: \\n{dados.isnull().sum()}')"
   ]
  },
  {
   "cell_type": "markdown",
   "metadata": {},
   "source": [
    "### Dados ruidosos"
   ]
  },
  {
   "cell_type": "markdown",
   "metadata": {},
   "source": [
    "#### Dados discrepantes"
   ]
  },
  {
   "cell_type": "code",
   "execution_count": 14,
   "metadata": {
    "ExecuteTime": {
     "end_time": "2021-04-26T13:44:23.611093Z",
     "start_time": "2021-04-26T13:44:23.362609Z"
    }
   },
   "outputs": [
    {
     "data": {
      "text/plain": [
       "4.0     549\n",
       "5.0     345\n",
       "3.0      36\n",
       "2.0      14\n",
       "6.0      11\n",
       "0.0       5\n",
       "55.0      1\n",
       "Name: bi_rads, dtype: int64"
      ]
     },
     "execution_count": 14,
     "metadata": {},
     "output_type": "execute_result"
    }
   ],
   "source": [
    "dados['bi_rads'].value_counts()"
   ]
  },
  {
   "cell_type": "code",
   "execution_count": 15,
   "metadata": {
    "ExecuteTime": {
     "end_time": "2021-04-26T13:44:23.919660Z",
     "start_time": "2021-04-26T13:44:23.616665Z"
    }
   },
   "outputs": [
    {
     "data": {
      "text/plain": [
       "4.0    549\n",
       "5.0    346\n",
       "3.0     36\n",
       "2.0     14\n",
       "6.0     11\n",
       "0.0      5\n",
       "Name: bi_rads, dtype: int64"
      ]
     },
     "execution_count": 15,
     "metadata": {},
     "output_type": "execute_result"
    }
   ],
   "source": [
    "dados['bi_rads'][dados[dados['bi_rads']==55.0].index[0]] = 5.0\n",
    "dados['bi_rads'].value_counts()"
   ]
  },
  {
   "cell_type": "markdown",
   "metadata": {},
   "source": [
    "#### Encaixotamento (binning) com QCut:  discretize a variável em intervalos de tamanhos aproximadamente iguais"
   ]
  },
  {
   "cell_type": "code",
   "execution_count": 16,
   "metadata": {
    "ExecuteTime": {
     "end_time": "2021-04-26T13:44:24.199594Z",
     "start_time": "2021-04-26T13:44:23.923822Z"
    }
   },
   "outputs": [],
   "source": [
    "dados_copy = dados.copy()"
   ]
  },
  {
   "cell_type": "code",
   "execution_count": 17,
   "metadata": {
    "ExecuteTime": {
     "end_time": "2021-04-26T13:44:24.468195Z",
     "start_time": "2021-04-26T13:44:24.206631Z"
    }
   },
   "outputs": [
    {
     "data": {
      "text/plain": [
       "(17.999, 43.0]    208\n",
       "(43.0, 53.0]      196\n",
       "(53.0, 60.0]      191\n",
       "(67.0, 96.0]      189\n",
       "(60.0, 67.0]      177\n",
       "Name: idade_bins, dtype: int64"
      ]
     },
     "execution_count": 17,
     "metadata": {},
     "output_type": "execute_result"
    }
   ],
   "source": [
    "dados_copy['idade_bins'] = pd.qcut(dados_copy['idade'].sort_values(), q=5)\n",
    "dados_copy['idade_bins'].value_counts()"
   ]
  },
  {
   "cell_type": "markdown",
   "metadata": {},
   "source": [
    "#### Encaixotamento (binning) com Cut: segmenta e classifica os valores dos dados em compartimentos"
   ]
  },
  {
   "cell_type": "code",
   "execution_count": 18,
   "metadata": {
    "ExecuteTime": {
     "end_time": "2021-04-26T13:44:24.743487Z",
     "start_time": "2021-04-26T13:44:24.471221Z"
    }
   },
   "outputs": [
    {
     "data": {
      "text/plain": [
       "(0.997, 2.0]    455\n",
       "(3.0, 4.0]      409\n",
       "(2.0, 3.0]       97\n",
       "Name: forma_da_massa_bins, dtype: int64"
      ]
     },
     "execution_count": 18,
     "metadata": {},
     "output_type": "execute_result"
    }
   ],
   "source": [
    "dados_copy['forma_da_massa_bins'] = pd.cut(dados_copy['forma_da_massa'].sort_values(), bins=3, right=True)\n",
    "dados_copy['forma_da_massa_bins'].value_counts()"
   ]
  },
  {
   "cell_type": "markdown",
   "metadata": {},
   "source": [
    "#### Pontuação de anomalias"
   ]
  },
  {
   "cell_type": "code",
   "execution_count": 19,
   "metadata": {
    "ExecuteTime": {
     "end_time": "2021-04-26T13:44:25.147483Z",
     "start_time": "2021-04-26T13:44:24.746623Z"
    }
   },
   "outputs": [
    {
     "data": {
      "text/html": [
       "<div>\n",
       "<style scoped>\n",
       "    .dataframe tbody tr th:only-of-type {\n",
       "        vertical-align: middle;\n",
       "    }\n",
       "\n",
       "    .dataframe tbody tr th {\n",
       "        vertical-align: top;\n",
       "    }\n",
       "\n",
       "    .dataframe thead th {\n",
       "        text-align: right;\n",
       "    }\n",
       "</style>\n",
       "<table border=\"1\" class=\"dataframe\">\n",
       "  <thead>\n",
       "    <tr style=\"text-align: right;\">\n",
       "      <th></th>\n",
       "      <th>bi_rads</th>\n",
       "      <th>idade</th>\n",
       "      <th>forma_da_massa</th>\n",
       "      <th>contorno_da_massa</th>\n",
       "      <th>densidade_da_massa</th>\n",
       "      <th>severidade</th>\n",
       "      <th>idade_bins</th>\n",
       "      <th>forma_da_massa_bins</th>\n",
       "      <th>is_outlier</th>\n",
       "    </tr>\n",
       "  </thead>\n",
       "  <tbody>\n",
       "    <tr>\n",
       "      <th>0</th>\n",
       "      <td>5.0</td>\n",
       "      <td>67.0</td>\n",
       "      <td>3.0</td>\n",
       "      <td>5.0</td>\n",
       "      <td>3.0</td>\n",
       "      <td>1</td>\n",
       "      <td>(60.0, 67.0]</td>\n",
       "      <td>(2.0, 3.0]</td>\n",
       "      <td>-1</td>\n",
       "    </tr>\n",
       "    <tr>\n",
       "      <th>1</th>\n",
       "      <td>4.0</td>\n",
       "      <td>43.0</td>\n",
       "      <td>1.0</td>\n",
       "      <td>1.0</td>\n",
       "      <td>3.0</td>\n",
       "      <td>1</td>\n",
       "      <td>(17.999, 43.0]</td>\n",
       "      <td>(0.997, 2.0]</td>\n",
       "      <td>-1</td>\n",
       "    </tr>\n",
       "    <tr>\n",
       "      <th>2</th>\n",
       "      <td>5.0</td>\n",
       "      <td>58.0</td>\n",
       "      <td>4.0</td>\n",
       "      <td>5.0</td>\n",
       "      <td>3.0</td>\n",
       "      <td>1</td>\n",
       "      <td>(53.0, 60.0]</td>\n",
       "      <td>(3.0, 4.0]</td>\n",
       "      <td>1</td>\n",
       "    </tr>\n",
       "    <tr>\n",
       "      <th>3</th>\n",
       "      <td>4.0</td>\n",
       "      <td>28.0</td>\n",
       "      <td>1.0</td>\n",
       "      <td>1.0</td>\n",
       "      <td>3.0</td>\n",
       "      <td>0</td>\n",
       "      <td>(17.999, 43.0]</td>\n",
       "      <td>(0.997, 2.0]</td>\n",
       "      <td>1</td>\n",
       "    </tr>\n",
       "    <tr>\n",
       "      <th>4</th>\n",
       "      <td>5.0</td>\n",
       "      <td>74.0</td>\n",
       "      <td>1.0</td>\n",
       "      <td>5.0</td>\n",
       "      <td>3.0</td>\n",
       "      <td>1</td>\n",
       "      <td>(67.0, 96.0]</td>\n",
       "      <td>(0.997, 2.0]</td>\n",
       "      <td>1</td>\n",
       "    </tr>\n",
       "  </tbody>\n",
       "</table>\n",
       "</div>"
      ],
      "text/plain": [
       "   bi_rads  idade  forma_da_massa  contorno_da_massa  densidade_da_massa  \\\n",
       "0      5.0   67.0             3.0                5.0                 3.0   \n",
       "1      4.0   43.0             1.0                1.0                 3.0   \n",
       "2      5.0   58.0             4.0                5.0                 3.0   \n",
       "3      4.0   28.0             1.0                1.0                 3.0   \n",
       "4      5.0   74.0             1.0                5.0                 3.0   \n",
       "\n",
       "   severidade      idade_bins forma_da_massa_bins  is_outlier  \n",
       "0           1    (60.0, 67.0]          (2.0, 3.0]          -1  \n",
       "1           1  (17.999, 43.0]        (0.997, 2.0]          -1  \n",
       "2           1    (53.0, 60.0]          (3.0, 4.0]           1  \n",
       "3           0  (17.999, 43.0]        (0.997, 2.0]           1  \n",
       "4           1    (67.0, 96.0]        (0.997, 2.0]           1  "
      ]
     },
     "execution_count": 19,
     "metadata": {},
     "output_type": "execute_result"
    }
   ],
   "source": [
    "from sklearn.neighbors import LocalOutlierFactor\n",
    "clf = LocalOutlierFactor(n_neighbors=3)\n",
    "dados_copy['is_outlier'] = clf.fit_predict(dados_copy.drop(['forma_da_massa_bins', 'idade_bins'], axis=1))\n",
    "dados_copy.head()"
   ]
  },
  {
   "cell_type": "markdown",
   "metadata": {},
   "source": [
    "#### Agrupamento"
   ]
  },
  {
   "cell_type": "code",
   "execution_count": 20,
   "metadata": {
    "ExecuteTime": {
     "end_time": "2021-04-26T13:44:25.558335Z",
     "start_time": "2021-04-26T13:44:25.150415Z"
    }
   },
   "outputs": [
    {
     "name": "stdout",
     "output_type": "stream",
     "text": [
      "[[ 4.11520737 43.68663594  2.30414747  2.29953917  2.82488479  0.29032258]\n",
      " [ 4.39516129 66.48790323  3.00806452  3.21370968  2.93951613  0.63306452]\n",
      " [ 4.29824561 55.7122807   2.79298246  2.92280702  2.90526316  0.44561404]\n",
      " [ 3.99056604 29.5         1.94339623  1.60377358  2.91509434  0.11320755]\n",
      " [ 4.73333333 78.78095238  3.37142857  3.58095238  2.88571429  0.81904762]]\n"
     ]
    }
   ],
   "source": [
    "from sklearn.cluster import KMeans\n",
    "kmeans = KMeans(n_clusters=5).fit(dados_copy.drop(['idade_bins', 'forma_da_massa_bins', 'is_outlier'], axis=1))\n",
    "centroides = kmeans.cluster_centers_\n",
    "print(centroides)"
   ]
  },
  {
   "cell_type": "code",
   "execution_count": 21,
   "metadata": {
    "ExecuteTime": {
     "end_time": "2021-04-26T13:44:25.742466Z",
     "start_time": "2021-04-26T13:44:25.562197Z"
    }
   },
   "outputs": [
    {
     "data": {
      "text/html": [
       "<div>\n",
       "<style scoped>\n",
       "    .dataframe tbody tr th:only-of-type {\n",
       "        vertical-align: middle;\n",
       "    }\n",
       "\n",
       "    .dataframe tbody tr th {\n",
       "        vertical-align: top;\n",
       "    }\n",
       "\n",
       "    .dataframe thead th {\n",
       "        text-align: right;\n",
       "    }\n",
       "</style>\n",
       "<table border=\"1\" class=\"dataframe\">\n",
       "  <thead>\n",
       "    <tr style=\"text-align: right;\">\n",
       "      <th></th>\n",
       "      <th>bi_rads</th>\n",
       "      <th>idade</th>\n",
       "      <th>forma_da_massa</th>\n",
       "      <th>contorno_da_massa</th>\n",
       "      <th>densidade_da_massa</th>\n",
       "      <th>severidade</th>\n",
       "      <th>idade_bins</th>\n",
       "      <th>forma_da_massa_bins</th>\n",
       "      <th>is_outlier</th>\n",
       "      <th>agrupamento</th>\n",
       "      <th>centroide</th>\n",
       "    </tr>\n",
       "  </thead>\n",
       "  <tbody>\n",
       "    <tr>\n",
       "      <th>770</th>\n",
       "      <td>4.0</td>\n",
       "      <td>54.0</td>\n",
       "      <td>1.0</td>\n",
       "      <td>1.0</td>\n",
       "      <td>3.0</td>\n",
       "      <td>0</td>\n",
       "      <td>(53.0, 60.0]</td>\n",
       "      <td>(0.997, 2.0]</td>\n",
       "      <td>1</td>\n",
       "      <td>2</td>\n",
       "      <td>66.487903</td>\n",
       "    </tr>\n",
       "  </tbody>\n",
       "</table>\n",
       "</div>"
      ],
      "text/plain": [
       "     bi_rads  idade  forma_da_massa  contorno_da_massa  densidade_da_massa  \\\n",
       "770      4.0   54.0             1.0                1.0                 3.0   \n",
       "\n",
       "     severidade    idade_bins forma_da_massa_bins  is_outlier  agrupamento  \\\n",
       "770           0  (53.0, 60.0]        (0.997, 2.0]           1            2   \n",
       "\n",
       "     centroide  \n",
       "770  66.487903  "
      ]
     },
     "execution_count": 21,
     "metadata": {},
     "output_type": "execute_result"
    }
   ],
   "source": [
    "dados_copy['agrupamento'] = kmeans.labels_\n",
    "\n",
    "for label in dados_copy['agrupamento']:\n",
    "    if label == 0:\n",
    "        dados_copy['centroide'] = centroides[0].max()\n",
    "    elif label == 1:\n",
    "        dados_copy['centroide'] = centroides[1].max()\n",
    "    elif label == 2:\n",
    "        dados_copy['centroide'] = centroides[2].max()\n",
    "    elif label == 3:\n",
    "        dados_copy['centroide'] = centroides[3].max()\n",
    "    else:\n",
    "        dados_copy['centroide'] = centroides[4].max()\n",
    "        \n",
    "dados_copy.sample()"
   ]
  },
  {
   "cell_type": "markdown",
   "metadata": {},
   "source": [
    "### Redução dos dados"
   ]
  },
  {
   "cell_type": "markdown",
   "metadata": {},
   "source": [
    "#### Compressão de atributos"
   ]
  },
  {
   "cell_type": "code",
   "execution_count": 22,
   "metadata": {
    "ExecuteTime": {
     "end_time": "2021-04-26T13:44:25.924900Z",
     "start_time": "2021-04-26T13:44:25.745116Z"
    }
   },
   "outputs": [
    {
     "data": {
      "text/plain": [
       "PCA(n_components=2)"
      ]
     },
     "execution_count": 22,
     "metadata": {},
     "output_type": "execute_result"
    }
   ],
   "source": [
    "from sklearn.decomposition import PCA\n",
    "pca = PCA(n_components=2)\n",
    "pca.fit(dados)"
   ]
  },
  {
   "cell_type": "code",
   "execution_count": 23,
   "metadata": {
    "ExecuteTime": {
     "end_time": "2021-04-26T13:44:26.165892Z",
     "start_time": "2021-04-26T13:44:25.933325Z"
    }
   },
   "outputs": [
    {
     "name": "stdout",
     "output_type": "stream",
     "text": [
      "Primeiro componente:  [0.01386695 0.99846532 0.03040462 0.04165048 0.00109936 0.01463895]\n",
      "Segundo componente:  [-0.15772891  0.05468933 -0.56919436 -0.79177609 -0.02105915 -0.14420673]\n"
     ]
    }
   ],
   "source": [
    "print('Primeiro componente: ', pca.components_.T[:,0])\n",
    "print('Segundo componente: ', pca.components_.T[:,1])"
   ]
  },
  {
   "cell_type": "code",
   "execution_count": 24,
   "metadata": {
    "ExecuteTime": {
     "end_time": "2021-04-26T13:44:26.472465Z",
     "start_time": "2021-04-26T13:44:26.172056Z"
    }
   },
   "outputs": [
    {
     "name": "stdout",
     "output_type": "stream",
     "text": [
      "%Variância explicada por cada componente:  [0.98011949 0.01388387]\n"
     ]
    }
   ],
   "source": [
    "print('%Variância explicada por cada componente: ', pca.explained_variance_ratio_)"
   ]
  },
  {
   "cell_type": "code",
   "execution_count": 25,
   "metadata": {
    "ExecuteTime": {
     "end_time": "2021-04-26T13:44:26.639242Z",
     "start_time": "2021-04-26T13:44:26.478343Z"
    }
   },
   "outputs": [
    {
     "name": "stdout",
     "output_type": "stream",
     "text": [
      "Perda da variação com a redução:  0.01\n"
     ]
    }
   ],
   "source": [
    "print('Perda da variação com a redução: ', round(1 - pca.explained_variance_ratio_.sum(), 2))"
   ]
  },
  {
   "cell_type": "code",
   "execution_count": 26,
   "metadata": {
    "ExecuteTime": {
     "end_time": "2021-04-26T13:44:27.898209Z",
     "start_time": "2021-04-26T13:44:26.645253Z"
    }
   },
   "outputs": [
    {
     "data": {
      "image/png": "[encoded data removed]",
      "text/plain": [
       "<Figure size 864x432 with 1 Axes>"
      ]
     },
     "metadata": {
      "needs_background": "light"
     },
     "output_type": "display_data"
    }
   ],
   "source": [
    "pca_df = pd.DataFrame(pca.fit_transform(dados), columns=['Primeiro componente principal', 'Segundo componente principal'])\n",
    "pca_df['label'] = dados['severidade']\n",
    "\n",
    "plt.figure(figsize=(12, 6))\n",
    "sns.scatterplot(data=pca_df, x='Primeiro componente principal', y='Segundo componente principal', hue='label', palette='Dark2')\n",
    "plt.title('PCA')\n",
    "plt.show()"
   ]
  },
  {
   "cell_type": "markdown",
   "metadata": {},
   "source": [
    "#### Redução do número de dados"
   ]
  },
  {
   "cell_type": "markdown",
   "metadata": {},
   "source": [
    " Amostragem aleatória simples sem repetição"
   ]
  },
  {
   "cell_type": "code",
   "execution_count": 27,
   "metadata": {
    "ExecuteTime": {
     "end_time": "2021-04-26T13:44:27.924990Z",
     "start_time": "2021-04-26T13:44:27.901480Z"
    }
   },
   "outputs": [
    {
     "data": {
      "text/html": [
       "<div>\n",
       "<style scoped>\n",
       "    .dataframe tbody tr th:only-of-type {\n",
       "        vertical-align: middle;\n",
       "    }\n",
       "\n",
       "    .dataframe tbody tr th {\n",
       "        vertical-align: top;\n",
       "    }\n",
       "\n",
       "    .dataframe thead th {\n",
       "        text-align: right;\n",
       "    }\n",
       "</style>\n",
       "<table border=\"1\" class=\"dataframe\">\n",
       "  <thead>\n",
       "    <tr style=\"text-align: right;\">\n",
       "      <th></th>\n",
       "      <th>bi_rads</th>\n",
       "      <th>idade</th>\n",
       "      <th>forma_da_massa</th>\n",
       "      <th>contorno_da_massa</th>\n",
       "      <th>densidade_da_massa</th>\n",
       "      <th>severidade</th>\n",
       "    </tr>\n",
       "  </thead>\n",
       "  <tbody>\n",
       "    <tr>\n",
       "      <th>823</th>\n",
       "      <td>4.0</td>\n",
       "      <td>74.0</td>\n",
       "      <td>1.0</td>\n",
       "      <td>1.0</td>\n",
       "      <td>1.0</td>\n",
       "      <td>1</td>\n",
       "    </tr>\n",
       "    <tr>\n",
       "      <th>94</th>\n",
       "      <td>5.0</td>\n",
       "      <td>60.0</td>\n",
       "      <td>1.0</td>\n",
       "      <td>1.0</td>\n",
       "      <td>3.0</td>\n",
       "      <td>0</td>\n",
       "    </tr>\n",
       "    <tr>\n",
       "      <th>885</th>\n",
       "      <td>4.0</td>\n",
       "      <td>65.0</td>\n",
       "      <td>2.0</td>\n",
       "      <td>4.0</td>\n",
       "      <td>3.0</td>\n",
       "      <td>1</td>\n",
       "    </tr>\n",
       "    <tr>\n",
       "      <th>777</th>\n",
       "      <td>4.0</td>\n",
       "      <td>33.0</td>\n",
       "      <td>1.0</td>\n",
       "      <td>1.0</td>\n",
       "      <td>3.0</td>\n",
       "      <td>0</td>\n",
       "    </tr>\n",
       "    <tr>\n",
       "      <th>607</th>\n",
       "      <td>4.0</td>\n",
       "      <td>55.0</td>\n",
       "      <td>1.0</td>\n",
       "      <td>1.0</td>\n",
       "      <td>3.0</td>\n",
       "      <td>0</td>\n",
       "    </tr>\n",
       "  </tbody>\n",
       "</table>\n",
       "</div>"
      ],
      "text/plain": [
       "     bi_rads  idade  forma_da_massa  contorno_da_massa  densidade_da_massa  \\\n",
       "823      4.0   74.0             1.0                1.0                 1.0   \n",
       "94       5.0   60.0             1.0                1.0                 3.0   \n",
       "885      4.0   65.0             2.0                4.0                 3.0   \n",
       "777      4.0   33.0             1.0                1.0                 3.0   \n",
       "607      4.0   55.0             1.0                1.0                 3.0   \n",
       "\n",
       "     severidade  \n",
       "823           1  \n",
       "94            0  \n",
       "885           1  \n",
       "777           0  \n",
       "607           0  "
      ]
     },
     "execution_count": 27,
     "metadata": {},
     "output_type": "execute_result"
    }
   ],
   "source": [
    "amostra = dados.sample(100)\n",
    "amostra.head()"
   ]
  },
  {
   "cell_type": "markdown",
   "metadata": {},
   "source": [
    "Amostragem aleatória simples com repetição"
   ]
  },
  {
   "cell_type": "code",
   "execution_count": 28,
   "metadata": {
    "ExecuteTime": {
     "end_time": "2021-04-26T13:44:28.444693Z",
     "start_time": "2021-04-26T13:44:27.928919Z"
    }
   },
   "outputs": [
    {
     "name": "stdout",
     "output_type": "stream",
     "text": [
      "Ítens duplicados:  7\n"
     ]
    }
   ],
   "source": [
    "amostra = dados.sample(100, replace=True)\n",
    "print('Ítens duplicados: ', amostra.duplicated().sum())"
   ]
  },
  {
   "cell_type": "markdown",
   "metadata": {},
   "source": [
    "Amostragem Aleatória Estratificada"
   ]
  },
  {
   "cell_type": "code",
   "execution_count": 29,
   "metadata": {
    "ExecuteTime": {
     "end_time": "2021-04-26T13:44:28.737610Z",
     "start_time": "2021-04-26T13:44:28.449465Z"
    }
   },
   "outputs": [
    {
     "name": "stdout",
     "output_type": "stream",
     "text": [
      "%Base original:\n",
      "\n",
      "0    0.536941\n",
      "1    0.463059\n",
      "Name: severidade, dtype: float64\n",
      "\n",
      "%Dados de treino:\n",
      "\n",
      "0    0.536458\n",
      "1    0.463542\n",
      "Name: severidade, dtype: float64\n",
      "\n",
      "%Dados de teste:\n",
      "\n",
      "0    0.53886\n",
      "1    0.46114\n",
      "Name: severidade, dtype: float64\n"
     ]
    }
   ],
   "source": [
    "from sklearn.model_selection import train_test_split\n",
    "X_train, X_test, y_train, y_test = train_test_split(dados.iloc[:, 0:5], dados['severidade'], stratify=dados['severidade'], \n",
    "                                                    test_size=0.20)\n",
    "\n",
    "print('%Base original:\\n')\n",
    "print(dados['severidade'].value_counts(normalize=True))\n",
    "print('\\n%Dados de treino:\\n')\n",
    "print(y_train.value_counts(normalize=True))\n",
    "print('\\n%Dados de teste:\\n')\n",
    "print(y_test.value_counts(normalize=True))"
   ]
  },
  {
   "cell_type": "markdown",
   "metadata": {},
   "source": [
    "Amostragem Sistemática"
   ]
  },
  {
   "cell_type": "code",
   "execution_count": 30,
   "metadata": {
    "ExecuteTime": {
     "end_time": "2021-04-26T13:44:29.024329Z",
     "start_time": "2021-04-26T13:44:28.756897Z"
    }
   },
   "outputs": [
    {
     "data": {
      "text/html": [
       "<div>\n",
       "<style scoped>\n",
       "    .dataframe tbody tr th:only-of-type {\n",
       "        vertical-align: middle;\n",
       "    }\n",
       "\n",
       "    .dataframe tbody tr th {\n",
       "        vertical-align: top;\n",
       "    }\n",
       "\n",
       "    .dataframe thead th {\n",
       "        text-align: right;\n",
       "    }\n",
       "</style>\n",
       "<table border=\"1\" class=\"dataframe\">\n",
       "  <thead>\n",
       "    <tr style=\"text-align: right;\">\n",
       "      <th></th>\n",
       "      <th>bi_rads</th>\n",
       "      <th>idade</th>\n",
       "      <th>forma_da_massa</th>\n",
       "      <th>contorno_da_massa</th>\n",
       "      <th>densidade_da_massa</th>\n",
       "      <th>severidade</th>\n",
       "    </tr>\n",
       "  </thead>\n",
       "  <tbody>\n",
       "    <tr>\n",
       "      <th>0</th>\n",
       "      <td>5.0</td>\n",
       "      <td>67.0</td>\n",
       "      <td>3.0</td>\n",
       "      <td>5.0</td>\n",
       "      <td>3.0</td>\n",
       "      <td>1</td>\n",
       "    </tr>\n",
       "    <tr>\n",
       "      <th>10</th>\n",
       "      <td>5.0</td>\n",
       "      <td>76.0</td>\n",
       "      <td>1.0</td>\n",
       "      <td>4.0</td>\n",
       "      <td>3.0</td>\n",
       "      <td>1</td>\n",
       "    </tr>\n",
       "    <tr>\n",
       "      <th>20</th>\n",
       "      <td>4.0</td>\n",
       "      <td>66.0</td>\n",
       "      <td>1.0</td>\n",
       "      <td>1.0</td>\n",
       "      <td>1.0</td>\n",
       "      <td>1</td>\n",
       "    </tr>\n",
       "    <tr>\n",
       "      <th>30</th>\n",
       "      <td>4.0</td>\n",
       "      <td>46.0</td>\n",
       "      <td>1.0</td>\n",
       "      <td>5.0</td>\n",
       "      <td>2.0</td>\n",
       "      <td>0</td>\n",
       "    </tr>\n",
       "    <tr>\n",
       "      <th>40</th>\n",
       "      <td>4.0</td>\n",
       "      <td>59.0</td>\n",
       "      <td>2.0</td>\n",
       "      <td>1.0</td>\n",
       "      <td>2.0</td>\n",
       "      <td>0</td>\n",
       "    </tr>\n",
       "  </tbody>\n",
       "</table>\n",
       "</div>"
      ],
      "text/plain": [
       "    bi_rads  idade  forma_da_massa  contorno_da_massa  densidade_da_massa  \\\n",
       "0       5.0   67.0             3.0                5.0                 3.0   \n",
       "10      5.0   76.0             1.0                4.0                 3.0   \n",
       "20      4.0   66.0             1.0                1.0                 1.0   \n",
       "30      4.0   46.0             1.0                5.0                 2.0   \n",
       "40      4.0   59.0             2.0                1.0                 2.0   \n",
       "\n",
       "    severidade  \n",
       "0            1  \n",
       "10           1  \n",
       "20           1  \n",
       "30           0  \n",
       "40           0  "
      ]
     },
     "execution_count": 30,
     "metadata": {},
     "output_type": "execute_result"
    }
   ],
   "source": [
    "indices = np.arange(0, 961, 10)\n",
    "amostra = dados.loc[indices]\n",
    "amostra.head()"
   ]
  },
  {
   "cell_type": "markdown",
   "metadata": {},
   "source": [
    "Amostragem por grupo"
   ]
  },
  {
   "cell_type": "code",
   "execution_count": 31,
   "metadata": {
    "ExecuteTime": {
     "end_time": "2021-04-26T13:44:29.354232Z",
     "start_time": "2021-04-26T13:44:29.036397Z"
    }
   },
   "outputs": [
    {
     "data": {
      "text/html": [
       "<div>\n",
       "<style scoped>\n",
       "    .dataframe tbody tr th:only-of-type {\n",
       "        vertical-align: middle;\n",
       "    }\n",
       "\n",
       "    .dataframe tbody tr th {\n",
       "        vertical-align: top;\n",
       "    }\n",
       "\n",
       "    .dataframe thead th {\n",
       "        text-align: right;\n",
       "    }\n",
       "</style>\n",
       "<table border=\"1\" class=\"dataframe\">\n",
       "  <thead>\n",
       "    <tr style=\"text-align: right;\">\n",
       "      <th></th>\n",
       "      <th>bi_rads</th>\n",
       "      <th>idade</th>\n",
       "      <th>forma_da_massa</th>\n",
       "      <th>contorno_da_massa</th>\n",
       "      <th>densidade_da_massa</th>\n",
       "      <th>severidade</th>\n",
       "    </tr>\n",
       "  </thead>\n",
       "  <tbody>\n",
       "    <tr>\n",
       "      <th>168</th>\n",
       "      <td>6.0</td>\n",
       "      <td>80.0</td>\n",
       "      <td>4.0</td>\n",
       "      <td>5.0</td>\n",
       "      <td>3.0</td>\n",
       "      <td>1</td>\n",
       "    </tr>\n",
       "    <tr>\n",
       "      <th>229</th>\n",
       "      <td>3.0</td>\n",
       "      <td>53.0</td>\n",
       "      <td>4.0</td>\n",
       "      <td>3.0</td>\n",
       "      <td>3.0</td>\n",
       "      <td>0</td>\n",
       "    </tr>\n",
       "    <tr>\n",
       "      <th>45</th>\n",
       "      <td>5.0</td>\n",
       "      <td>55.0</td>\n",
       "      <td>2.0</td>\n",
       "      <td>4.0</td>\n",
       "      <td>3.0</td>\n",
       "      <td>1</td>\n",
       "    </tr>\n",
       "    <tr>\n",
       "      <th>158</th>\n",
       "      <td>4.0</td>\n",
       "      <td>57.0</td>\n",
       "      <td>2.0</td>\n",
       "      <td>4.0</td>\n",
       "      <td>3.0</td>\n",
       "      <td>0</td>\n",
       "    </tr>\n",
       "    <tr>\n",
       "      <th>13</th>\n",
       "      <td>4.0</td>\n",
       "      <td>50.0</td>\n",
       "      <td>4.0</td>\n",
       "      <td>4.0</td>\n",
       "      <td>3.0</td>\n",
       "      <td>1</td>\n",
       "    </tr>\n",
       "  </tbody>\n",
       "</table>\n",
       "</div>"
      ],
      "text/plain": [
       "     bi_rads  idade  forma_da_massa  contorno_da_massa  densidade_da_massa  \\\n",
       "168      6.0   80.0             4.0                5.0                 3.0   \n",
       "229      3.0   53.0             4.0                3.0                 3.0   \n",
       "45       5.0   55.0             2.0                4.0                 3.0   \n",
       "158      4.0   57.0             2.0                4.0                 3.0   \n",
       "13       4.0   50.0             4.0                4.0                 3.0   \n",
       "\n",
       "     severidade  \n",
       "168           1  \n",
       "229           0  \n",
       "45            1  \n",
       "158           0  \n",
       "13            1  "
      ]
     },
     "execution_count": 31,
     "metadata": {},
     "output_type": "execute_result"
    }
   ],
   "source": [
    "grupo = dados.groupby('severidade').apply(pd.DataFrame.sample, frac=.5)\n",
    "amostra_1 = grupo[grupo['severidade']==0]\n",
    "amostra_2 = grupo[grupo['severidade']==1]\n",
    "\n",
    "amostra_1.reset_index(drop=True, inplace=True)\n",
    "amostra_2.reset_index(drop=True, inplace=True)\n",
    "\n",
    "amostra = pd.concat([amostra_1, amostra_2])\n",
    "amostra.sample(5)"
   ]
  },
  {
   "cell_type": "markdown",
   "metadata": {},
   "source": [
    "### Padronização dos dados"
   ]
  },
  {
   "cell_type": "code",
   "execution_count": 32,
   "metadata": {
    "ExecuteTime": {
     "end_time": "2021-04-26T13:44:29.560018Z",
     "start_time": "2021-04-26T13:44:29.357595Z"
    }
   },
   "outputs": [
    {
     "data": {
      "text/plain": [
       "bi_rads               int64\n",
       "idade                 int64\n",
       "forma_da_massa        int64\n",
       "contorno_da_massa     int64\n",
       "densidade_da_massa    int64\n",
       "severidade            int64\n",
       "dtype: object"
      ]
     },
     "execution_count": 32,
     "metadata": {},
     "output_type": "execute_result"
    }
   ],
   "source": [
    "for col in dados.columns:\n",
    "    dados[col] = dados[col].astype(int)\n",
    "    \n",
    "dados.dtypes"
   ]
  },
  {
   "cell_type": "markdown",
   "metadata": {},
   "source": [
    "### Normalização"
   ]
  },
  {
   "cell_type": "markdown",
   "metadata": {},
   "source": [
    "#### Min-Max"
   ]
  },
  {
   "cell_type": "code",
   "execution_count": 33,
   "metadata": {
    "ExecuteTime": {
     "end_time": "2021-04-26T13:44:29.863630Z",
     "start_time": "2021-04-26T13:44:29.566620Z"
    }
   },
   "outputs": [],
   "source": [
    "dados_copy = dados.copy()\n",
    "\n",
    "vmin = dados_copy['idade'].min()\n",
    "vmax = dados_copy['idade'].max()\n",
    "dados_copy['min_max'] = dados_copy['idade'].apply(lambda x : (x - vmin) / (vmax - vmin) * (1-0) + 0)"
   ]
  },
  {
   "cell_type": "markdown",
   "metadata": {},
   "source": [
    "#### Z-score"
   ]
  },
  {
   "cell_type": "code",
   "execution_count": 34,
   "metadata": {
    "ExecuteTime": {
     "end_time": "2021-04-26T13:44:30.158031Z",
     "start_time": "2021-04-26T13:44:29.869451Z"
    }
   },
   "outputs": [],
   "source": [
    "std = dados_copy['idade'].std()\n",
    "media = dados_copy['idade'].mean()\n",
    "dados_copy['z_score'] = dados_copy['idade'].apply(lambda x : (x-media)/std)"
   ]
  },
  {
   "cell_type": "markdown",
   "metadata": {},
   "source": [
    "#### Por escala decimal"
   ]
  },
  {
   "cell_type": "code",
   "execution_count": 35,
   "metadata": {
    "ExecuteTime": {
     "end_time": "2021-04-26T13:44:30.505274Z",
     "start_time": "2021-04-26T13:44:30.165221Z"
    }
   },
   "outputs": [],
   "source": [
    "j = len(str(abs(dados_copy['idade'].max())))\n",
    "dados_copy['escalonamento_decimal'] = dados_copy['idade'].apply(lambda x : x/10**j)"
   ]
  },
  {
   "cell_type": "markdown",
   "metadata": {},
   "source": [
    "#### Interquartil"
   ]
  },
  {
   "cell_type": "code",
   "execution_count": 36,
   "metadata": {
    "ExecuteTime": {
     "end_time": "2021-04-26T13:44:30.898589Z",
     "start_time": "2021-04-26T13:44:30.509105Z"
    }
   },
   "outputs": [],
   "source": [
    "Q1 = dados_copy['idade'].describe()['25%']\n",
    "Q2 = dados_copy['idade'].describe()['50%']\n",
    "Q3 = dados_copy['idade'].describe()['75%']\n",
    "IQR = Q3-Q1\n",
    "dados_copy['interquartil'] = dados_copy['idade'].apply(lambda x : (x-Q2)/IQR)"
   ]
  },
  {
   "cell_type": "markdown",
   "metadata": {},
   "source": [
    "#### Resultado"
   ]
  },
  {
   "cell_type": "code",
   "execution_count": 37,
   "metadata": {
    "ExecuteTime": {
     "end_time": "2021-04-26T13:44:31.114971Z",
     "start_time": "2021-04-26T13:44:30.903396Z"
    }
   },
   "outputs": [
    {
     "data": {
      "text/html": [
       "<div>\n",
       "<style scoped>\n",
       "    .dataframe tbody tr th:only-of-type {\n",
       "        vertical-align: middle;\n",
       "    }\n",
       "\n",
       "    .dataframe tbody tr th {\n",
       "        vertical-align: top;\n",
       "    }\n",
       "\n",
       "    .dataframe thead th {\n",
       "        text-align: right;\n",
       "    }\n",
       "</style>\n",
       "<table border=\"1\" class=\"dataframe\">\n",
       "  <thead>\n",
       "    <tr style=\"text-align: right;\">\n",
       "      <th></th>\n",
       "      <th>idade</th>\n",
       "      <th>min_max</th>\n",
       "      <th>z_score</th>\n",
       "      <th>escalonamento_decimal</th>\n",
       "      <th>interquartil</th>\n",
       "    </tr>\n",
       "  </thead>\n",
       "  <tbody>\n",
       "    <tr>\n",
       "      <th>0</th>\n",
       "      <td>67</td>\n",
       "      <td>0.628205</td>\n",
       "      <td>0.799154</td>\n",
       "      <td>0.67</td>\n",
       "      <td>0.476190</td>\n",
       "    </tr>\n",
       "    <tr>\n",
       "      <th>1</th>\n",
       "      <td>43</td>\n",
       "      <td>0.320513</td>\n",
       "      <td>-0.855248</td>\n",
       "      <td>0.43</td>\n",
       "      <td>-0.666667</td>\n",
       "    </tr>\n",
       "    <tr>\n",
       "      <th>2</th>\n",
       "      <td>58</td>\n",
       "      <td>0.512821</td>\n",
       "      <td>0.178754</td>\n",
       "      <td>0.58</td>\n",
       "      <td>0.047619</td>\n",
       "    </tr>\n",
       "    <tr>\n",
       "      <th>3</th>\n",
       "      <td>28</td>\n",
       "      <td>0.128205</td>\n",
       "      <td>-1.889250</td>\n",
       "      <td>0.28</td>\n",
       "      <td>-1.380952</td>\n",
       "    </tr>\n",
       "    <tr>\n",
       "      <th>4</th>\n",
       "      <td>74</td>\n",
       "      <td>0.717949</td>\n",
       "      <td>1.281688</td>\n",
       "      <td>0.74</td>\n",
       "      <td>0.809524</td>\n",
       "    </tr>\n",
       "  </tbody>\n",
       "</table>\n",
       "</div>"
      ],
      "text/plain": [
       "   idade   min_max   z_score  escalonamento_decimal  interquartil\n",
       "0     67  0.628205  0.799154                   0.67      0.476190\n",
       "1     43  0.320513 -0.855248                   0.43     -0.666667\n",
       "2     58  0.512821  0.178754                   0.58      0.047619\n",
       "3     28  0.128205 -1.889250                   0.28     -1.380952\n",
       "4     74  0.717949  1.281688                   0.74      0.809524"
      ]
     },
     "execution_count": 37,
     "metadata": {},
     "output_type": "execute_result"
    }
   ],
   "source": [
    "dados_copy.drop(['bi_rads', 'forma_da_massa', 'contorno_da_massa', 'densidade_da_massa', 'severidade'], axis=1).head()"
   ]
  },
  {
   "cell_type": "markdown",
   "metadata": {},
   "source": [
    "### Discretização"
   ]
  },
  {
   "cell_type": "code",
   "execution_count": null,
   "metadata": {},
   "outputs": [],
   "source": []
  }
 ],
 "metadata": {
  "hide_input": false,
  "kernelspec": {
   "display_name": "Python 3",
   "language": "python",
   "name": "python3"
  },
  "language_info": {
   "codemirror_mode": {
    "name": "ipython",
    "version": 3
   },
   "file_extension": ".py",
   "mimetype": "text/x-python",
   "name": "python",
   "nbconvert_exporter": "python",
   "pygments_lexer": "ipython3",
   "version": "3.7.5"
  },
  "toc": {
   "base_numbering": 1,
   "nav_menu": {},
   "number_sections": true,
   "sideBar": true,
   "skip_h1_title": false,
   "title_cell": "Table of Contents",
   "title_sidebar": "Contents",
   "toc_cell": false,
   "toc_position": {},
   "toc_section_display": true,
   "toc_window_display": false
  },
  "varInspector": {
   "cols": {
    "lenName": 16,
    "lenType": 16,
    "lenVar": 40
   },
   "kernels_config": {
    "python": {
     "delete_cmd_postfix": "",
     "delete_cmd_prefix": "del ",
     "library": "var_list.py",
     "varRefreshCmd": "print(var_dic_list())"
    },
    "r": {
     "delete_cmd_postfix": ") ",
     "delete_cmd_prefix": "rm(",
     "library": "var_list.r",
     "varRefreshCmd": "cat(var_dic_list()) "
    }
   },
   "types_to_exclude": [
    "module",
    "function",
    "builtin_function_or_method",
    "instance",
    "_Feature"
   ],
   "window_display": false
  }
 },
 "nbformat": 4,
 "nbformat_minor": 4
}
