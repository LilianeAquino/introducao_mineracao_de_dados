{
 "cells": [
  {
   "cell_type": "markdown",
   "metadata": {},
   "source": [
    "# Capítulo 2 - Pré-processamento dos dados"
   ]
  },
  {
   "cell_type": "markdown",
   "metadata": {},
   "source": [
    "## Bibliotecas básicas e outras inicializações"
   ]
  },
  {
   "cell_type": "code",
   "execution_count": 1,
   "metadata": {
    "ExecuteTime": {
     "end_time": "2021-04-22T14:12:25.035424Z",
     "start_time": "2021-04-22T14:12:24.148291Z"
    }
   },
   "outputs": [],
   "source": [
    "import pandas as pd\n",
    "import numpy as np\n",
    "import seaborn as sns\n",
    "import matplotlib.pyplot as plt\n",
    "%matplotlib inline\n",
    "\n",
    "import warnings\n",
    "warnings.filterwarnings('ignore')"
   ]
  },
  {
   "cell_type": "markdown",
   "metadata": {},
   "source": [
    "## Carregamento dos dados"
   ]
  },
  {
   "cell_type": "code",
   "execution_count": 2,
   "metadata": {
    "ExecuteTime": {
     "end_time": "2021-04-22T14:12:25.066564Z",
     "start_time": "2021-04-22T14:12:25.038580Z"
    }
   },
   "outputs": [
    {
     "data": {
      "text/html": [
       "<div>\n",
       "<style scoped>\n",
       "    .dataframe tbody tr th:only-of-type {\n",
       "        vertical-align: middle;\n",
       "    }\n",
       "\n",
       "    .dataframe tbody tr th {\n",
       "        vertical-align: top;\n",
       "    }\n",
       "\n",
       "    .dataframe thead th {\n",
       "        text-align: right;\n",
       "    }\n",
       "</style>\n",
       "<table border=\"1\" class=\"dataframe\">\n",
       "  <thead>\n",
       "    <tr style=\"text-align: right;\">\n",
       "      <th></th>\n",
       "      <th>bi_rads</th>\n",
       "      <th>idade</th>\n",
       "      <th>forma_da_massa</th>\n",
       "      <th>contorno_da_massa</th>\n",
       "      <th>densidade_da_massa</th>\n",
       "      <th>severidade</th>\n",
       "    </tr>\n",
       "  </thead>\n",
       "  <tbody>\n",
       "    <tr>\n",
       "      <th>0</th>\n",
       "      <td>5.0</td>\n",
       "      <td>67.0</td>\n",
       "      <td>3.0</td>\n",
       "      <td>5.0</td>\n",
       "      <td>3.0</td>\n",
       "      <td>1</td>\n",
       "    </tr>\n",
       "    <tr>\n",
       "      <th>1</th>\n",
       "      <td>4.0</td>\n",
       "      <td>43.0</td>\n",
       "      <td>1.0</td>\n",
       "      <td>1.0</td>\n",
       "      <td>NaN</td>\n",
       "      <td>1</td>\n",
       "    </tr>\n",
       "    <tr>\n",
       "      <th>2</th>\n",
       "      <td>5.0</td>\n",
       "      <td>58.0</td>\n",
       "      <td>4.0</td>\n",
       "      <td>5.0</td>\n",
       "      <td>3.0</td>\n",
       "      <td>1</td>\n",
       "    </tr>\n",
       "    <tr>\n",
       "      <th>3</th>\n",
       "      <td>4.0</td>\n",
       "      <td>28.0</td>\n",
       "      <td>1.0</td>\n",
       "      <td>1.0</td>\n",
       "      <td>3.0</td>\n",
       "      <td>0</td>\n",
       "    </tr>\n",
       "    <tr>\n",
       "      <th>4</th>\n",
       "      <td>5.0</td>\n",
       "      <td>74.0</td>\n",
       "      <td>1.0</td>\n",
       "      <td>5.0</td>\n",
       "      <td>NaN</td>\n",
       "      <td>1</td>\n",
       "    </tr>\n",
       "  </tbody>\n",
       "</table>\n",
       "</div>"
      ],
      "text/plain": [
       "   bi_rads  idade  forma_da_massa  contorno_da_massa  densidade_da_massa  \\\n",
       "0      5.0   67.0             3.0                5.0                 3.0   \n",
       "1      4.0   43.0             1.0                1.0                 NaN   \n",
       "2      5.0   58.0             4.0                5.0                 3.0   \n",
       "3      4.0   28.0             1.0                1.0                 3.0   \n",
       "4      5.0   74.0             1.0                5.0                 NaN   \n",
       "\n",
       "   severidade  \n",
       "0           1  \n",
       "1           1  \n",
       "2           1  \n",
       "3           0  \n",
       "4           1  "
      ]
     },
     "execution_count": 2,
     "metadata": {},
     "output_type": "execute_result"
    }
   ],
   "source": [
    "dados = pd.read_csv('./datasets/mammographic_masses.data', \n",
    "                    names=['bi_rads', 'idade', 'forma_da_massa', 'contorno_da_massa', 'densidade_da_massa', 'severidade'], \n",
    "                    na_values='?')\n",
    "dados.head()"
   ]
  },
  {
   "cell_type": "code",
   "execution_count": 3,
   "metadata": {
    "ExecuteTime": {
     "end_time": "2021-04-22T14:12:25.323057Z",
     "start_time": "2021-04-22T14:12:25.070123Z"
    }
   },
   "outputs": [
    {
     "name": "stdout",
     "output_type": "stream",
     "text": [
      "Linhas: 961 | Colunas: 6\n"
     ]
    }
   ],
   "source": [
    "print(f'Linhas: {dados.shape[0]} | Colunas: {dados.shape[1]}')"
   ]
  },
  {
   "cell_type": "code",
   "execution_count": 4,
   "metadata": {
    "ExecuteTime": {
     "end_time": "2021-04-22T14:12:25.536015Z",
     "start_time": "2021-04-22T14:12:25.329521Z"
    }
   },
   "outputs": [
    {
     "name": "stdout",
     "output_type": "stream",
     "text": [
      "<class 'pandas.core.frame.DataFrame'>\n",
      "RangeIndex: 961 entries, 0 to 960\n",
      "Data columns (total 6 columns):\n",
      " #   Column              Non-Null Count  Dtype  \n",
      "---  ------              --------------  -----  \n",
      " 0   bi_rads             959 non-null    float64\n",
      " 1   idade               956 non-null    float64\n",
      " 2   forma_da_massa      930 non-null    float64\n",
      " 3   contorno_da_massa   913 non-null    float64\n",
      " 4   densidade_da_massa  885 non-null    float64\n",
      " 5   severidade          961 non-null    int64  \n",
      "dtypes: float64(5), int64(1)\n",
      "memory usage: 45.2 KB\n"
     ]
    }
   ],
   "source": [
    "dados.info()"
   ]
  },
  {
   "cell_type": "markdown",
   "metadata": {},
   "source": [
    "### Dicionário dos dados"
   ]
  },
  {
   "cell_type": "markdown",
   "metadata": {},
   "source": [
    "**bi_rads**: sistema de clasificação adotado para estimar qual a chance de determinada imagem da mamografia ser câncer.{0-6}(float)\n",
    "\n",
    "**idade**: idade do paciente em anos.(float)\n",
    "\n",
    "**forma_da_massa**: {redonda=1, ovular=2, lobular=3, irregular=4}(float)\n",
    "\n",
    "**contorno_da_massa**: {circunscrita=1, microlobulada=2, obscura=3, mal definida=4, especulada=5}(float)\n",
    "\n",
    "**densidade_da_massa**: {alta=1, iso=2, baixa=3, gordurosa=4}(float)\n",
    "\n",
    "**severidade**: {benigno=0, maligno=1}(inteiro)"
   ]
  },
  {
   "cell_type": "markdown",
   "metadata": {},
   "source": [
    "## Limpeza da base"
   ]
  },
  {
   "cell_type": "markdown",
   "metadata": {},
   "source": [
    "### Valores ausentes"
   ]
  },
  {
   "cell_type": "markdown",
   "metadata": {},
   "source": [
    "#### Ignorar o objeto"
   ]
  },
  {
   "cell_type": "code",
   "execution_count": 5,
   "metadata": {
    "ExecuteTime": {
     "end_time": "2021-04-22T14:12:25.723167Z",
     "start_time": "2021-04-22T14:12:25.540719Z"
    }
   },
   "outputs": [
    {
     "name": "stdout",
     "output_type": "stream",
     "text": [
      "Antes: (961, 6)\n",
      "Depois: (830, 6)\n"
     ]
    }
   ],
   "source": [
    "dados_copy = dados.copy()\n",
    "print(f'Antes: {dados_copy.shape}')\n",
    "dados_copy.dropna(inplace=True)\n",
    "print(f'Depois: {dados_copy.shape}')"
   ]
  },
  {
   "cell_type": "code",
   "execution_count": 6,
   "metadata": {
    "ExecuteTime": {
     "end_time": "2021-04-22T14:12:25.969837Z",
     "start_time": "2021-04-22T14:12:25.732572Z"
    }
   },
   "outputs": [
    {
     "name": "stdout",
     "output_type": "stream",
     "text": [
      "Foram removidos 13.63% da base\n"
     ]
    }
   ],
   "source": [
    "print(f'Foram removidos {round((961-830)*100/961, 2)}% da base')"
   ]
  },
  {
   "cell_type": "markdown",
   "metadata": {
    "ExecuteTime": {
     "end_time": "2021-04-20T12:52:17.776970Z",
     "start_time": "2021-04-20T12:52:17.773863Z"
    }
   },
   "source": [
    "#### Imputar manualmente os valores ausentes"
   ]
  },
  {
   "cell_type": "code",
   "execution_count": 7,
   "metadata": {
    "ExecuteTime": {
     "end_time": "2021-04-22T14:12:26.166428Z",
     "start_time": "2021-04-22T14:12:25.975943Z"
    }
   },
   "outputs": [
    {
     "name": "stdout",
     "output_type": "stream",
     "text": [
      "Total de dados ausentes na coluna densidade_da_massa:  76\n",
      "Total de dados ausentes na coluna densidade_da_massa:  0\n"
     ]
    }
   ],
   "source": [
    "dados_copy = dados.copy()\n",
    "print('Total de dados ausentes na coluna densidade_da_massa: ', dados_copy['densidade_da_massa'].isnull().sum())\n",
    "dados_copy['densidade_da_massa'].fillna(1, inplace=True)\n",
    "print('Total de dados ausentes na coluna densidade_da_massa: ', dados_copy['densidade_da_massa'].isnull().sum())"
   ]
  },
  {
   "cell_type": "markdown",
   "metadata": {},
   "source": [
    "#### Imputar de acordo com a última observação (last observation carried forward)"
   ]
  },
  {
   "cell_type": "code",
   "execution_count": 8,
   "metadata": {
    "ExecuteTime": {
     "end_time": "2021-04-22T14:12:26.342564Z",
     "start_time": "2021-04-22T14:12:26.172668Z"
    }
   },
   "outputs": [
    {
     "name": "stdout",
     "output_type": "stream",
     "text": [
      "Total de dados ausentes na coluna contorno_da_massa:  48\n",
      "Total de dados ausentes na coluna contorno_da_massa:  0\n"
     ]
    }
   ],
   "source": [
    "dados_copy = dados.copy()\n",
    "print('Total de dados ausentes na coluna contorno_da_massa: ', dados_copy['contorno_da_massa'].isnull().sum())\n",
    "dados_copy['contorno_da_massa'].fillna(method='ffill', inplace=True)\n",
    "print('Total de dados ausentes na coluna contorno_da_massa: ', dados_copy['contorno_da_massa'].isnull().sum())"
   ]
  },
  {
   "cell_type": "markdown",
   "metadata": {},
   "source": [
    "#### Imputação do tipo hot-deck"
   ]
  },
  {
   "cell_type": "code",
   "execution_count": 9,
   "metadata": {
    "ExecuteTime": {
     "end_time": "2021-04-22T14:12:26.626466Z",
     "start_time": "2021-04-22T14:12:26.347937Z"
    }
   },
   "outputs": [
    {
     "name": "stdout",
     "output_type": "stream",
     "text": [
      "Total de dados ausentes na coluna idade:  5\n",
      "Total de dados ausentes na coluna idade:  0\n"
     ]
    }
   ],
   "source": [
    "from sklearn.impute import KNNImputer\n",
    "\n",
    "imputer = KNNImputer(n_neighbors=5, weights='distance')\n",
    "dados_copy = dados.copy()\n",
    "\n",
    "print('Total de dados ausentes na coluna idade: ', dados_copy['idade'].isnull().sum())\n",
    "dados_copy['idade'] = imputer.fit_transform(dados_copy[['idade']])\n",
    "print('Total de dados ausentes na coluna idade: ', dados_copy['idade'].isnull().sum())"
   ]
  },
  {
   "cell_type": "markdown",
   "metadata": {},
   "source": [
    "#### Imputação com média, mediana ou moda"
   ]
  },
  {
   "cell_type": "code",
   "execution_count": 10,
   "metadata": {
    "ExecuteTime": {
     "end_time": "2021-04-22T14:12:26.695529Z",
     "start_time": "2021-04-22T14:12:26.629658Z"
    }
   },
   "outputs": [],
   "source": [
    "dados_copy = dados.copy()\n",
    "dados_copy['idade'] = dados_copy['idade'].fillna(dados_copy['idade'].mean())\n",
    "dados_copy['contorno_da_massa'] = dados_copy['contorno_da_massa'].fillna(dados_copy['contorno_da_massa'].median())"
   ]
  },
  {
   "cell_type": "markdown",
   "metadata": {},
   "source": [
    "#### Imputação com média, mediana ou moda de objetos da mesma classe"
   ]
  },
  {
   "cell_type": "code",
   "execution_count": 11,
   "metadata": {
    "ExecuteTime": {
     "end_time": "2021-04-22T14:12:26.879009Z",
     "start_time": "2021-04-22T14:12:26.698385Z"
    }
   },
   "outputs": [],
   "source": [
    "dados_copy = dados.copy()\n",
    "dados_copy['idade'] = dados_copy['idade'].fillna(dados_copy[dados_copy['severidade']==0]['idade'].mean())\n",
    "dados_copy['idade'] = dados_copy['idade'].fillna(dados_copy[dados_copy['severidade']==1]['idade'].mean())"
   ]
  },
  {
   "cell_type": "markdown",
   "metadata": {
    "ExecuteTime": {
     "end_time": "2021-04-21T11:44:18.321797Z",
     "start_time": "2021-04-21T11:44:18.312928Z"
    }
   },
   "source": [
    "#### Usando modelos preditivos"
   ]
  },
  {
   "cell_type": "code",
   "execution_count": 12,
   "metadata": {
    "ExecuteTime": {
     "end_time": "2021-04-22T14:12:27.146542Z",
     "start_time": "2021-04-22T14:12:26.886243Z"
    }
   },
   "outputs": [],
   "source": [
    "from sklearn.tree import DecisionTreeClassifier\n",
    "\n",
    "dados_copy = dados.copy()\n",
    "\n",
    "test = dados_copy[dados_copy['idade'].isnull()]\n",
    "test.drop(['idade'], 1, inplace=True)\n",
    "dados_copy.dropna(inplace=True)\n",
    "\n",
    "X = dados_copy.drop(['idade'], 1)\n",
    "y = dados_copy['idade']\n",
    "\n",
    "\n",
    "model = DecisionTreeClassifier()\n",
    "model.fit(X, y)\n",
    "nova_idade = model.predict(test)\n",
    "test['idade'] = nova_idade\n",
    "\n",
    "dados_copy = dados.copy()\n",
    "dados_copy['idade'].fillna(value=test['idade'], inplace=True)"
   ]
  },
  {
   "cell_type": "markdown",
   "metadata": {},
   "source": [
    "#### Tratando valores ausentes na base original"
   ]
  },
  {
   "cell_type": "code",
   "execution_count": 13,
   "metadata": {
    "ExecuteTime": {
     "end_time": "2021-04-22T14:12:27.428400Z",
     "start_time": "2021-04-22T14:12:27.149557Z"
    }
   },
   "outputs": [
    {
     "name": "stdout",
     "output_type": "stream",
     "text": [
      "Valores nulos na base: \n",
      "bi_rads               0\n",
      "idade                 0\n",
      "forma_da_massa        0\n",
      "contorno_da_massa     0\n",
      "densidade_da_massa    0\n",
      "severidade            0\n",
      "dtype: int64\n"
     ]
    }
   ],
   "source": [
    "for col in ['bi_rads', 'idade', 'forma_da_massa', 'contorno_da_massa', 'densidade_da_massa']:\n",
    "    dados[col].fillna(method='ffill', inplace=True)\n",
    "    \n",
    "print(f'Valores nulos na base: \\n{dados.isnull().sum()}')"
   ]
  },
  {
   "cell_type": "markdown",
   "metadata": {},
   "source": [
    "### Dados ruidosos"
   ]
  },
  {
   "cell_type": "markdown",
   "metadata": {},
   "source": [
    "#### Dados discrepantes"
   ]
  },
  {
   "cell_type": "code",
   "execution_count": 14,
   "metadata": {
    "ExecuteTime": {
     "end_time": "2021-04-22T14:12:27.602207Z",
     "start_time": "2021-04-22T14:12:27.432666Z"
    }
   },
   "outputs": [
    {
     "data": {
      "text/plain": [
       "4.0     549\n",
       "5.0     345\n",
       "3.0      36\n",
       "2.0      14\n",
       "6.0      11\n",
       "0.0       5\n",
       "55.0      1\n",
       "Name: bi_rads, dtype: int64"
      ]
     },
     "execution_count": 14,
     "metadata": {},
     "output_type": "execute_result"
    }
   ],
   "source": [
    "dados['bi_rads'].value_counts()"
   ]
  },
  {
   "cell_type": "code",
   "execution_count": 15,
   "metadata": {
    "ExecuteTime": {
     "end_time": "2021-04-22T14:12:27.790933Z",
     "start_time": "2021-04-22T14:12:27.608759Z"
    }
   },
   "outputs": [
    {
     "data": {
      "text/plain": [
       "4.0    549\n",
       "5.0    346\n",
       "3.0     36\n",
       "2.0     14\n",
       "6.0     11\n",
       "0.0      5\n",
       "Name: bi_rads, dtype: int64"
      ]
     },
     "execution_count": 15,
     "metadata": {},
     "output_type": "execute_result"
    }
   ],
   "source": [
    "dados['bi_rads'][dados[dados['bi_rads']==55.0].index[0]] = 5.0\n",
    "dados['bi_rads'].value_counts()"
   ]
  },
  {
   "cell_type": "markdown",
   "metadata": {},
   "source": [
    "#### Encaixotamento (binning) com QCut:  discretize a variável em intervalos de tamanhos aproximadamente iguais"
   ]
  },
  {
   "cell_type": "code",
   "execution_count": 16,
   "metadata": {
    "ExecuteTime": {
     "end_time": "2021-04-22T14:12:28.003534Z",
     "start_time": "2021-04-22T14:12:27.797906Z"
    }
   },
   "outputs": [
    {
     "data": {
      "text/plain": [
       "(17.999, 43.0]    208\n",
       "(43.0, 53.0]      196\n",
       "(53.0, 60.0]      191\n",
       "(67.0, 96.0]      189\n",
       "(60.0, 67.0]      177\n",
       "Name: idade_bins, dtype: int64"
      ]
     },
     "execution_count": 16,
     "metadata": {},
     "output_type": "execute_result"
    }
   ],
   "source": [
    "dados['idade_bins'] = pd.qcut(dados['idade'].sort_values(), q=5)\n",
    "dados['idade_bins'].value_counts()"
   ]
  },
  {
   "cell_type": "markdown",
   "metadata": {},
   "source": [
    "#### Encaixotamento (binning) com Cut: segmenta e classifica os valores dos dados em compartimentos"
   ]
  },
  {
   "cell_type": "code",
   "execution_count": 17,
   "metadata": {
    "ExecuteTime": {
     "end_time": "2021-04-22T14:12:28.158905Z",
     "start_time": "2021-04-22T14:12:28.007009Z"
    }
   },
   "outputs": [
    {
     "data": {
      "text/plain": [
       "(0.997, 2.0]    455\n",
       "(3.0, 4.0]      409\n",
       "(2.0, 3.0]       97\n",
       "Name: forma_da_massa_bins, dtype: int64"
      ]
     },
     "execution_count": 17,
     "metadata": {},
     "output_type": "execute_result"
    }
   ],
   "source": [
    "dados['forma_da_massa_bins'] = pd.cut(dados['forma_da_massa'].sort_values(), bins=3, right=True)\n",
    "dados['forma_da_massa_bins'].value_counts()"
   ]
  },
  {
   "cell_type": "markdown",
   "metadata": {},
   "source": [
    "#### Pontuação de anomalias"
   ]
  },
  {
   "cell_type": "code",
   "execution_count": 19,
   "metadata": {
    "ExecuteTime": {
     "end_time": "2021-04-22T14:12:45.786258Z",
     "start_time": "2021-04-22T14:12:45.734717Z"
    }
   },
   "outputs": [
    {
     "data": {
      "text/html": [
       "<div>\n",
       "<style scoped>\n",
       "    .dataframe tbody tr th:only-of-type {\n",
       "        vertical-align: middle;\n",
       "    }\n",
       "\n",
       "    .dataframe tbody tr th {\n",
       "        vertical-align: top;\n",
       "    }\n",
       "\n",
       "    .dataframe thead th {\n",
       "        text-align: right;\n",
       "    }\n",
       "</style>\n",
       "<table border=\"1\" class=\"dataframe\">\n",
       "  <thead>\n",
       "    <tr style=\"text-align: right;\">\n",
       "      <th></th>\n",
       "      <th>bi_rads</th>\n",
       "      <th>idade</th>\n",
       "      <th>forma_da_massa</th>\n",
       "      <th>contorno_da_massa</th>\n",
       "      <th>densidade_da_massa</th>\n",
       "      <th>severidade</th>\n",
       "      <th>idade_bins</th>\n",
       "      <th>forma_da_massa_bins</th>\n",
       "      <th>is_outlier</th>\n",
       "    </tr>\n",
       "  </thead>\n",
       "  <tbody>\n",
       "    <tr>\n",
       "      <th>0</th>\n",
       "      <td>5.0</td>\n",
       "      <td>67.0</td>\n",
       "      <td>3.0</td>\n",
       "      <td>5.0</td>\n",
       "      <td>3.0</td>\n",
       "      <td>1</td>\n",
       "      <td>(60.0, 67.0]</td>\n",
       "      <td>(2.0, 3.0]</td>\n",
       "      <td>-1</td>\n",
       "    </tr>\n",
       "    <tr>\n",
       "      <th>1</th>\n",
       "      <td>4.0</td>\n",
       "      <td>43.0</td>\n",
       "      <td>1.0</td>\n",
       "      <td>1.0</td>\n",
       "      <td>3.0</td>\n",
       "      <td>1</td>\n",
       "      <td>(17.999, 43.0]</td>\n",
       "      <td>(0.997, 2.0]</td>\n",
       "      <td>-1</td>\n",
       "    </tr>\n",
       "    <tr>\n",
       "      <th>2</th>\n",
       "      <td>5.0</td>\n",
       "      <td>58.0</td>\n",
       "      <td>4.0</td>\n",
       "      <td>5.0</td>\n",
       "      <td>3.0</td>\n",
       "      <td>1</td>\n",
       "      <td>(53.0, 60.0]</td>\n",
       "      <td>(3.0, 4.0]</td>\n",
       "      <td>1</td>\n",
       "    </tr>\n",
       "    <tr>\n",
       "      <th>3</th>\n",
       "      <td>4.0</td>\n",
       "      <td>28.0</td>\n",
       "      <td>1.0</td>\n",
       "      <td>1.0</td>\n",
       "      <td>3.0</td>\n",
       "      <td>0</td>\n",
       "      <td>(17.999, 43.0]</td>\n",
       "      <td>(0.997, 2.0]</td>\n",
       "      <td>1</td>\n",
       "    </tr>\n",
       "    <tr>\n",
       "      <th>4</th>\n",
       "      <td>5.0</td>\n",
       "      <td>74.0</td>\n",
       "      <td>1.0</td>\n",
       "      <td>5.0</td>\n",
       "      <td>3.0</td>\n",
       "      <td>1</td>\n",
       "      <td>(67.0, 96.0]</td>\n",
       "      <td>(0.997, 2.0]</td>\n",
       "      <td>1</td>\n",
       "    </tr>\n",
       "  </tbody>\n",
       "</table>\n",
       "</div>"
      ],
      "text/plain": [
       "   bi_rads  idade  forma_da_massa  contorno_da_massa  densidade_da_massa  \\\n",
       "0      5.0   67.0             3.0                5.0                 3.0   \n",
       "1      4.0   43.0             1.0                1.0                 3.0   \n",
       "2      5.0   58.0             4.0                5.0                 3.0   \n",
       "3      4.0   28.0             1.0                1.0                 3.0   \n",
       "4      5.0   74.0             1.0                5.0                 3.0   \n",
       "\n",
       "   severidade      idade_bins forma_da_massa_bins  is_outlier  \n",
       "0           1    (60.0, 67.0]          (2.0, 3.0]          -1  \n",
       "1           1  (17.999, 43.0]        (0.997, 2.0]          -1  \n",
       "2           1    (53.0, 60.0]          (3.0, 4.0]           1  \n",
       "3           0  (17.999, 43.0]        (0.997, 2.0]           1  \n",
       "4           1    (67.0, 96.0]        (0.997, 2.0]           1  "
      ]
     },
     "execution_count": 19,
     "metadata": {},
     "output_type": "execute_result"
    }
   ],
   "source": [
    "from sklearn.neighbors import LocalOutlierFactor\n",
    "clf = LocalOutlierFactor(n_neighbors=3)\n",
    "dados['is_outlier'] = clf.fit_predict(dados.drop(['forma_da_massa_bins', 'idade_bins'], axis=1))\n",
    "dados.head()"
   ]
  },
  {
   "cell_type": "markdown",
   "metadata": {},
   "source": [
    "#### Agrupamento"
   ]
  },
  {
   "cell_type": "code",
   "execution_count": 20,
   "metadata": {
    "ExecuteTime": {
     "end_time": "2021-04-22T14:12:48.061470Z",
     "start_time": "2021-04-22T14:12:47.958424Z"
    }
   },
   "outputs": [
    {
     "name": "stdout",
     "output_type": "stream",
     "text": [
      "[[ 4.11520737 43.68663594  2.30414747  2.29953917  2.82488479  0.29032258]\n",
      " [ 4.73333333 78.78095238  3.37142857  3.58095238  2.88571429  0.81904762]\n",
      " [ 4.29824561 55.7122807   2.79298246  2.92280702  2.90526316  0.44561404]\n",
      " [ 3.99056604 29.5         1.94339623  1.60377358  2.91509434  0.11320755]\n",
      " [ 4.39516129 66.48790323  3.00806452  3.21370968  2.93951613  0.63306452]]\n"
     ]
    }
   ],
   "source": [
    "from sklearn.cluster import KMeans\n",
    "kmeans = KMeans(n_clusters=5).fit(dados.drop(['idade_bins', 'forma_da_massa_bins', 'is_outlier'], axis=1))\n",
    "centroides = kmeans.cluster_centers_\n",
    "print(centroides)"
   ]
  },
  {
   "cell_type": "code",
   "execution_count": 21,
   "metadata": {
    "ExecuteTime": {
     "end_time": "2021-04-22T14:12:50.391593Z",
     "start_time": "2021-04-22T14:12:50.192381Z"
    }
   },
   "outputs": [
    {
     "data": {
      "text/html": [
       "<div>\n",
       "<style scoped>\n",
       "    .dataframe tbody tr th:only-of-type {\n",
       "        vertical-align: middle;\n",
       "    }\n",
       "\n",
       "    .dataframe tbody tr th {\n",
       "        vertical-align: top;\n",
       "    }\n",
       "\n",
       "    .dataframe thead th {\n",
       "        text-align: right;\n",
       "    }\n",
       "</style>\n",
       "<table border=\"1\" class=\"dataframe\">\n",
       "  <thead>\n",
       "    <tr style=\"text-align: right;\">\n",
       "      <th></th>\n",
       "      <th>bi_rads</th>\n",
       "      <th>idade</th>\n",
       "      <th>forma_da_massa</th>\n",
       "      <th>contorno_da_massa</th>\n",
       "      <th>densidade_da_massa</th>\n",
       "      <th>severidade</th>\n",
       "      <th>idade_bins</th>\n",
       "      <th>forma_da_massa_bins</th>\n",
       "      <th>is_outlier</th>\n",
       "      <th>agrupamento</th>\n",
       "      <th>centroide</th>\n",
       "    </tr>\n",
       "  </thead>\n",
       "  <tbody>\n",
       "    <tr>\n",
       "      <th>708</th>\n",
       "      <td>4.0</td>\n",
       "      <td>71.0</td>\n",
       "      <td>2.0</td>\n",
       "      <td>1.0</td>\n",
       "      <td>3.0</td>\n",
       "      <td>1</td>\n",
       "      <td>(67.0, 96.0]</td>\n",
       "      <td>(0.997, 2.0]</td>\n",
       "      <td>1</td>\n",
       "      <td>4</td>\n",
       "      <td>66.487903</td>\n",
       "    </tr>\n",
       "  </tbody>\n",
       "</table>\n",
       "</div>"
      ],
      "text/plain": [
       "     bi_rads  idade  forma_da_massa  contorno_da_massa  densidade_da_massa  \\\n",
       "708      4.0   71.0             2.0                1.0                 3.0   \n",
       "\n",
       "     severidade    idade_bins forma_da_massa_bins  is_outlier  agrupamento  \\\n",
       "708           1  (67.0, 96.0]        (0.997, 2.0]           1            4   \n",
       "\n",
       "     centroide  \n",
       "708  66.487903  "
      ]
     },
     "execution_count": 21,
     "metadata": {},
     "output_type": "execute_result"
    }
   ],
   "source": [
    "dados['agrupamento'] = kmeans.labels_\n",
    "\n",
    "for label in dados['agrupamento']:\n",
    "    if label == 0:\n",
    "        dados['centroide'] = centroides[0].max()\n",
    "    elif label == 1:\n",
    "        dados['centroide'] = centroides[1].max()\n",
    "    elif label == 2:\n",
    "        dados['centroide'] = centroides[2].max()\n",
    "    elif label == 3:\n",
    "        dados['centroide'] = centroides[3].max()\n",
    "    else:\n",
    "        dados['centroide'] = centroides[4].max()\n",
    "        \n",
    "dados.sample()"
   ]
  }
 ],
 "metadata": {
  "hide_input": false,
  "kernelspec": {
   "display_name": "Python 3",
   "language": "python",
   "name": "python3"
  },
  "language_info": {
   "codemirror_mode": {
    "name": "ipython",
    "version": 3
   },
   "file_extension": ".py",
   "mimetype": "text/x-python",
   "name": "python",
   "nbconvert_exporter": "python",
   "pygments_lexer": "ipython3",
   "version": "3.7.5"
  },
  "toc": {
   "base_numbering": 1,
   "nav_menu": {},
   "number_sections": true,
   "sideBar": true,
   "skip_h1_title": false,
   "title_cell": "Table of Contents",
   "title_sidebar": "Contents",
   "toc_cell": false,
   "toc_position": {},
   "toc_section_display": true,
   "toc_window_display": false
  },
  "varInspector": {
   "cols": {
    "lenName": 16,
    "lenType": 16,
    "lenVar": 40
   },
   "kernels_config": {
    "python": {
     "delete_cmd_postfix": "",
     "delete_cmd_prefix": "del ",
     "library": "var_list.py",
     "varRefreshCmd": "print(var_dic_list())"
    },
    "r": {
     "delete_cmd_postfix": ") ",
     "delete_cmd_prefix": "rm(",
     "library": "var_list.r",
     "varRefreshCmd": "cat(var_dic_list()) "
    }
   },
   "types_to_exclude": [
    "module",
    "function",
    "builtin_function_or_method",
    "instance",
    "_Feature"
   ],
   "window_display": false
  }
 },
 "nbformat": 4,
 "nbformat_minor": 4
}
