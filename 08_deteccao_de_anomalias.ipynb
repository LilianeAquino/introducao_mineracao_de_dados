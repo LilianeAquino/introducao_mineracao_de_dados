{
 "cells": [
  {
   "cell_type": "markdown",
   "metadata": {},
   "source": [
    "# Capítulo 8 - Detecção de anomalias"
   ]
  },
  {
   "cell_type": "markdown",
   "metadata": {},
   "source": [
    "## Bibliotecas básicas e outras inicializações"
   ]
  },
  {
   "cell_type": "code",
   "execution_count": 1,
   "metadata": {
    "ExecuteTime": {
     "end_time": "2021-07-20T10:51:26.321981Z",
     "start_time": "2021-07-20T10:51:19.469142Z"
    }
   },
   "outputs": [],
   "source": [
    "import warnings\n",
    "import pandas as pd\n",
    "import numpy as np\n",
    "import seaborn as sns\n",
    "import matplotlib.pyplot as plt\n",
    "%matplotlib inline\n",
    "\n",
    "warnings.filterwarnings('ignore')"
   ]
  },
  {
   "cell_type": "markdown",
   "metadata": {},
   "source": [
    "## Carregamento dos dados"
   ]
  },
  {
   "cell_type": "code",
   "execution_count": 2,
   "metadata": {
    "ExecuteTime": {
     "end_time": "2021-07-20T10:51:28.858395Z",
     "start_time": "2021-07-20T10:51:26.351367Z"
    }
   },
   "outputs": [
    {
     "name": "stdout",
     "output_type": "stream",
     "text": [
      "Linhas: 9994 | Colunas: 21\n"
     ]
    },
    {
     "data": {
      "text/html": [
       "<div>\n",
       "<style scoped>\n",
       "    .dataframe tbody tr th:only-of-type {\n",
       "        vertical-align: middle;\n",
       "    }\n",
       "\n",
       "    .dataframe tbody tr th {\n",
       "        vertical-align: top;\n",
       "    }\n",
       "\n",
       "    .dataframe thead th {\n",
       "        text-align: right;\n",
       "    }\n",
       "</style>\n",
       "<table border=\"1\" class=\"dataframe\">\n",
       "  <thead>\n",
       "    <tr style=\"text-align: right;\">\n",
       "      <th></th>\n",
       "      <th>id_registro</th>\n",
       "      <th>id_pedido</th>\n",
       "      <th>data_pedido</th>\n",
       "      <th>data_envio</th>\n",
       "      <th>modo_envio</th>\n",
       "      <th>id_cliente</th>\n",
       "      <th>nome_cliente</th>\n",
       "      <th>segmento</th>\n",
       "      <th>pais</th>\n",
       "      <th>cidade</th>\n",
       "      <th>...</th>\n",
       "      <th>codigo_postal</th>\n",
       "      <th>regiao</th>\n",
       "      <th>id_produto</th>\n",
       "      <th>categoria</th>\n",
       "      <th>subcategoria</th>\n",
       "      <th>nome_produto</th>\n",
       "      <th>vendas</th>\n",
       "      <th>quantidade</th>\n",
       "      <th>desconto</th>\n",
       "      <th>lucro</th>\n",
       "    </tr>\n",
       "  </thead>\n",
       "  <tbody>\n",
       "    <tr>\n",
       "      <th>9146</th>\n",
       "      <td>9147</td>\n",
       "      <td>US-2016-165505</td>\n",
       "      <td>2016-01-23</td>\n",
       "      <td>2016-01-27</td>\n",
       "      <td>Standard Class</td>\n",
       "      <td>CB-12535</td>\n",
       "      <td>Claudia Bergmann</td>\n",
       "      <td>Corporate</td>\n",
       "      <td>United States</td>\n",
       "      <td>Burlington</td>\n",
       "      <td>...</td>\n",
       "      <td>5408</td>\n",
       "      <td>East</td>\n",
       "      <td>TEC-AC-10002926</td>\n",
       "      <td>Technology</td>\n",
       "      <td>Accessories</td>\n",
       "      <td>Logitech Wireless Marathon Mouse M705</td>\n",
       "      <td>99.98</td>\n",
       "      <td>2</td>\n",
       "      <td>0.0</td>\n",
       "      <td>42.9914</td>\n",
       "    </tr>\n",
       "  </tbody>\n",
       "</table>\n",
       "<p>1 rows × 21 columns</p>\n",
       "</div>"
      ],
      "text/plain": [
       "      id_registro       id_pedido data_pedido data_envio      modo_envio  \\\n",
       "9146         9147  US-2016-165505  2016-01-23 2016-01-27  Standard Class   \n",
       "\n",
       "     id_cliente      nome_cliente   segmento           pais      cidade  ...  \\\n",
       "9146   CB-12535  Claudia Bergmann  Corporate  United States  Burlington  ...   \n",
       "\n",
       "     codigo_postal  regiao       id_produto   categoria subcategoria  \\\n",
       "9146          5408    East  TEC-AC-10002926  Technology  Accessories   \n",
       "\n",
       "                               nome_produto vendas  quantidade  desconto  \\\n",
       "9146  Logitech Wireless Marathon Mouse M705  99.98           2       0.0   \n",
       "\n",
       "        lucro  \n",
       "9146  42.9914  \n",
       "\n",
       "[1 rows x 21 columns]"
      ]
     },
     "execution_count": 2,
     "metadata": {},
     "output_type": "execute_result"
    }
   ],
   "source": [
    "dados = pd.read_excel('datasets/Sample - Superstore.xls')\n",
    "dados.columns = ['id_registro', 'id_pedido', 'data_pedido', 'data_envio', 'modo_envio', 'id_cliente', 'nome_cliente', \n",
    "                 'segmento', 'pais', 'cidade', 'estado', 'codigo_postal', 'regiao', 'id_produto', 'categoria', 'subcategoria', \n",
    "                 'nome_produto', 'vendas', 'quantidade', 'desconto', 'lucro']\n",
    "\n",
    "print(f'Linhas: {dados.shape[0]} | Colunas: {dados.shape[1]}')\n",
    "dados.sample()"
   ]
  },
  {
   "cell_type": "markdown",
   "metadata": {},
   "source": [
    "## Informação dos dados"
   ]
  },
  {
   "cell_type": "code",
   "execution_count": 3,
   "metadata": {
    "ExecuteTime": {
     "end_time": "2021-07-20T10:51:28.911210Z",
     "start_time": "2021-07-20T10:51:28.863064Z"
    }
   },
   "outputs": [
    {
     "name": "stdout",
     "output_type": "stream",
     "text": [
      "<class 'pandas.core.frame.DataFrame'>\n",
      "RangeIndex: 9994 entries, 0 to 9993\n",
      "Data columns (total 21 columns):\n",
      " #   Column         Non-Null Count  Dtype         \n",
      "---  ------         --------------  -----         \n",
      " 0   id_registro    9994 non-null   int64         \n",
      " 1   id_pedido      9994 non-null   object        \n",
      " 2   data_pedido    9994 non-null   datetime64[ns]\n",
      " 3   data_envio     9994 non-null   datetime64[ns]\n",
      " 4   modo_envio     9994 non-null   object        \n",
      " 5   id_cliente     9994 non-null   object        \n",
      " 6   nome_cliente   9994 non-null   object        \n",
      " 7   segmento       9994 non-null   object        \n",
      " 8   pais           9994 non-null   object        \n",
      " 9   cidade         9994 non-null   object        \n",
      " 10  estado         9994 non-null   object        \n",
      " 11  codigo_postal  9994 non-null   int64         \n",
      " 12  regiao         9994 non-null   object        \n",
      " 13  id_produto     9994 non-null   object        \n",
      " 14  categoria      9994 non-null   object        \n",
      " 15  subcategoria   9994 non-null   object        \n",
      " 16  nome_produto   9994 non-null   object        \n",
      " 17  vendas         9994 non-null   float64       \n",
      " 18  quantidade     9994 non-null   int64         \n",
      " 19  desconto       9994 non-null   float64       \n",
      " 20  lucro          9994 non-null   float64       \n",
      "dtypes: datetime64[ns](2), float64(3), int64(3), object(13)\n",
      "memory usage: 1.6+ MB\n"
     ]
    }
   ],
   "source": [
    "dados.info()"
   ]
  },
  {
   "cell_type": "markdown",
   "metadata": {},
   "source": [
    "## Descrição dos dados"
   ]
  },
  {
   "cell_type": "code",
   "execution_count": 4,
   "metadata": {
    "ExecuteTime": {
     "end_time": "2021-07-20T10:51:29.220069Z",
     "start_time": "2021-07-20T10:51:28.916125Z"
    }
   },
   "outputs": [
    {
     "data": {
      "text/html": [
       "<div>\n",
       "<style scoped>\n",
       "    .dataframe tbody tr th:only-of-type {\n",
       "        vertical-align: middle;\n",
       "    }\n",
       "\n",
       "    .dataframe tbody tr th {\n",
       "        vertical-align: top;\n",
       "    }\n",
       "\n",
       "    .dataframe thead th {\n",
       "        text-align: right;\n",
       "    }\n",
       "</style>\n",
       "<table border=\"1\" class=\"dataframe\">\n",
       "  <thead>\n",
       "    <tr style=\"text-align: right;\">\n",
       "      <th></th>\n",
       "      <th>vendas</th>\n",
       "      <th>quantidade</th>\n",
       "      <th>desconto</th>\n",
       "      <th>lucro</th>\n",
       "    </tr>\n",
       "  </thead>\n",
       "  <tbody>\n",
       "    <tr>\n",
       "      <th>count</th>\n",
       "      <td>9994.00</td>\n",
       "      <td>9994.00</td>\n",
       "      <td>9994.00</td>\n",
       "      <td>9994.00</td>\n",
       "    </tr>\n",
       "    <tr>\n",
       "      <th>mean</th>\n",
       "      <td>229.86</td>\n",
       "      <td>3.79</td>\n",
       "      <td>0.16</td>\n",
       "      <td>28.66</td>\n",
       "    </tr>\n",
       "    <tr>\n",
       "      <th>std</th>\n",
       "      <td>623.25</td>\n",
       "      <td>2.23</td>\n",
       "      <td>0.21</td>\n",
       "      <td>234.26</td>\n",
       "    </tr>\n",
       "    <tr>\n",
       "      <th>min</th>\n",
       "      <td>0.44</td>\n",
       "      <td>1.00</td>\n",
       "      <td>0.00</td>\n",
       "      <td>-6599.98</td>\n",
       "    </tr>\n",
       "    <tr>\n",
       "      <th>25%</th>\n",
       "      <td>17.28</td>\n",
       "      <td>2.00</td>\n",
       "      <td>0.00</td>\n",
       "      <td>1.73</td>\n",
       "    </tr>\n",
       "    <tr>\n",
       "      <th>50%</th>\n",
       "      <td>54.49</td>\n",
       "      <td>3.00</td>\n",
       "      <td>0.20</td>\n",
       "      <td>8.67</td>\n",
       "    </tr>\n",
       "    <tr>\n",
       "      <th>75%</th>\n",
       "      <td>209.94</td>\n",
       "      <td>5.00</td>\n",
       "      <td>0.20</td>\n",
       "      <td>29.36</td>\n",
       "    </tr>\n",
       "    <tr>\n",
       "      <th>max</th>\n",
       "      <td>22638.48</td>\n",
       "      <td>14.00</td>\n",
       "      <td>0.80</td>\n",
       "      <td>8399.98</td>\n",
       "    </tr>\n",
       "  </tbody>\n",
       "</table>\n",
       "</div>"
      ],
      "text/plain": [
       "         vendas  quantidade  desconto    lucro\n",
       "count   9994.00     9994.00   9994.00  9994.00\n",
       "mean     229.86        3.79      0.16    28.66\n",
       "std      623.25        2.23      0.21   234.26\n",
       "min        0.44        1.00      0.00 -6599.98\n",
       "25%       17.28        2.00      0.00     1.73\n",
       "50%       54.49        3.00      0.20     8.67\n",
       "75%      209.94        5.00      0.20    29.36\n",
       "max    22638.48       14.00      0.80  8399.98"
      ]
     },
     "execution_count": 4,
     "metadata": {},
     "output_type": "execute_result"
    }
   ],
   "source": [
    "dados.drop(['id_registro', 'codigo_postal'], axis=1).describe().round(2)"
   ]
  },
  {
   "cell_type": "markdown",
   "metadata": {},
   "source": [
    "## Detecção univariada de anomalias"
   ]
  },
  {
   "cell_type": "markdown",
   "metadata": {},
   "source": [
    "### Distribuição de vendas"
   ]
  },
  {
   "cell_type": "code",
   "execution_count": 5,
   "metadata": {
    "ExecuteTime": {
     "end_time": "2021-07-20T10:51:29.756985Z",
     "start_time": "2021-07-20T10:51:29.222372Z"
    }
   },
   "outputs": [
    {
     "data": {
      "image/png": "[encoded data removed]",
      "text/plain": [
       "<Figure size 864x432 with 1 Axes>"
      ]
     },
     "metadata": {
      "needs_background": "light"
     },
     "output_type": "display_data"
    }
   ],
   "source": [
    "plt.figure(figsize=(12, 6))\n",
    "plt.scatter(range(dados.shape[0]), np.sort(dados['vendas'].values))\n",
    "plt.xlabel('índice')\n",
    "plt.ylabel('vendas')\n",
    "plt.title('Distribuição de vendas', y=1.05, fontsize=16)\n",
    "sns.despine()"
   ]
  },
  {
   "cell_type": "code",
   "execution_count": 6,
   "metadata": {
    "ExecuteTime": {
     "end_time": "2021-07-20T10:51:30.389056Z",
     "start_time": "2021-07-20T10:51:29.760156Z"
    }
   },
   "outputs": [
    {
     "name": "stdout",
     "output_type": "stream",
     "text": [
      "Assimetria: 12.972752\n",
      "Curtose: 305.311753\n"
     ]
    },
    {
     "data": {
      "image/png": "[encoded data removed]",
      "text/plain": [
       "<Figure size 864x432 with 1 Axes>"
      ]
     },
     "metadata": {
      "needs_background": "light"
     },
     "output_type": "display_data"
    }
   ],
   "source": [
    "print(\"Assimetria: %f\" % dados['vendas'].skew())\n",
    "print('Curtose: %f' % dados['vendas'].kurt())\n",
    "\n",
    "plt.figure(figsize=(12, 6))\n",
    "sns.distplot(dados['vendas'])\n",
    "plt.title('Distribuição de vendas', y=1.05, fontsize=16)\n",
    "sns.despine()"
   ]
  },
  {
   "cell_type": "markdown",
   "metadata": {},
   "source": [
    "### Distribuição dos lucros"
   ]
  },
  {
   "cell_type": "code",
   "execution_count": 7,
   "metadata": {
    "ExecuteTime": {
     "end_time": "2021-07-20T10:51:30.879482Z",
     "start_time": "2021-07-20T10:51:30.393869Z"
    }
   },
   "outputs": [
    {
     "data": {
      "image/png": "[encoded data removed]",
      "text/plain": [
       "<Figure size 864x432 with 1 Axes>"
      ]
     },
     "metadata": {
      "needs_background": "light"
     },
     "output_type": "display_data"
    }
   ],
   "source": [
    "plt.figure(figsize=(12, 6))\n",
    "plt.scatter(range(dados.shape[0]), np.sort(dados['lucro'].values))\n",
    "plt.xlabel('índice')\n",
    "plt.ylabel('lucro')\n",
    "plt.title('Distribuição dos lucro', y=1.05, fontsize=16)\n",
    "sns.despine()"
   ]
  },
  {
   "cell_type": "code",
   "execution_count": 8,
   "metadata": {
    "ExecuteTime": {
     "end_time": "2021-07-20T10:51:31.456057Z",
     "start_time": "2021-07-20T10:51:30.883587Z"
    }
   },
   "outputs": [
    {
     "name": "stdout",
     "output_type": "stream",
     "text": [
      "Assimetria: 7.561432\n",
      "Curtose: 397.188515\n"
     ]
    },
    {
     "data": {
      "image/png": "[encoded data removed]",
      "text/plain": [
       "<Figure size 864x432 with 1 Axes>"
      ]
     },
     "metadata": {
      "needs_background": "light"
     },
     "output_type": "display_data"
    }
   ],
   "source": [
    "print(\"Assimetria: %f\" % dados['lucro'].skew())\n",
    "print('Curtose: %f' % dados['lucro'].kurt())\n",
    "\n",
    "plt.figure(figsize=(12, 6))\n",
    "sns.distplot(dados['lucro'])\n",
    "plt.title('Distribuição dos lucros', y=1.05, fontsize=16)\n",
    "sns.despine()"
   ]
  },
  {
   "cell_type": "markdown",
   "metadata": {},
   "source": [
    "### Detecção univariada de anomalias"
   ]
  },
  {
   "cell_type": "code",
   "execution_count": 9,
   "metadata": {
    "ExecuteTime": {
     "end_time": "2021-07-20T10:51:31.756999Z",
     "start_time": "2021-07-20T10:51:31.471831Z"
    }
   },
   "outputs": [],
   "source": [
    "from sklearn.ensemble import IsolationForest\n",
    "\n",
    "def univariateAnomalyDetection(column):\n",
    "    \"\"\"\n",
    "        - Treina IsolationForest usando os dados de venda\n",
    "        - Armazena as vendas em um array NumPy\n",
    "        - Calcula a pontuação da anomalia para cada observação\n",
    "        - Classificou cada observação como outlier ou não outlier\n",
    "        - A visualização destaca as regiões onde caem os outliers\n",
    "    \"\"\"\n",
    "    \n",
    "    isolation_forest = IsolationForest(n_estimators=100)\n",
    "    isolation_forest.fit(dados[column].values.reshape(-1, 1))\n",
    "    xx = np.linspace(dados[column].min(), dados[column].max(), len(dados)).reshape(-1,1)\n",
    "    anomaly_score = isolation_forest.decision_function(xx)\n",
    "    outlier = isolation_forest.predict(xx)\n",
    "    \n",
    "    plt.figure(figsize=(12, 6))\n",
    "    plt.plot(xx, anomaly_score, label='pontuação de anomalia')\n",
    "    plt.fill_between(xx.T[0], np.min(anomaly_score), np.max(anomaly_score), where=outlier==-1, color='r', alpha=.4, \n",
    "                     label='região de outliers')\n",
    "    plt.legend()\n",
    "    plt.ylabel('pontuação de anomalia')\n",
    "    plt.xlabel(column)\n",
    "    plt.show()"
   ]
  },
  {
   "cell_type": "markdown",
   "metadata": {},
   "source": [
    "#### Vendas\n",
    "> Parece que as vendas que excedem 1000 seriam consideradas como outlier"
   ]
  },
  {
   "cell_type": "code",
   "execution_count": 10,
   "metadata": {
    "ExecuteTime": {
     "end_time": "2021-07-20T10:51:33.182373Z",
     "start_time": "2021-07-20T10:51:31.759343Z"
    }
   },
   "outputs": [
    {
     "data": {
      "image/png": "[encoded data removed]",
      "text/plain": [
       "<Figure size 864x432 with 1 Axes>"
      ]
     },
     "metadata": {
      "needs_background": "light"
     },
     "output_type": "display_data"
    }
   ],
   "source": [
    "univariateAnomalyDetection('vendas')"
   ]
  },
  {
   "cell_type": "markdown",
   "metadata": {},
   "source": [
    "#### Lucros\n",
    "\n",
    "> Parece que o lucro abaixo de -100 ou superior a 100 seria considerado um valor atípico"
   ]
  },
  {
   "cell_type": "code",
   "execution_count": 11,
   "metadata": {
    "ExecuteTime": {
     "end_time": "2021-07-20T10:51:34.826605Z",
     "start_time": "2021-07-20T10:51:33.186626Z"
    }
   },
   "outputs": [
    {
     "data": {
      "image/png": "[encoded data removed]",
      "text/plain": [
       "<Figure size 864x432 with 1 Axes>"
      ]
     },
     "metadata": {
      "needs_background": "light"
     },
     "output_type": "display_data"
    }
   ],
   "source": [
    "univariateAnomalyDetection('lucro')"
   ]
  }
 ],
 "metadata": {
  "hide_input": false,
  "kernelspec": {
   "display_name": "Python 3",
   "language": "python",
   "name": "python3"
  },
  "language_info": {
   "codemirror_mode": {
    "name": "ipython",
    "version": 3
   },
   "file_extension": ".py",
   "mimetype": "text/x-python",
   "name": "python",
   "nbconvert_exporter": "python",
   "pygments_lexer": "ipython3",
   "version": "3.7.5"
  },
  "nbTranslate": {
   "displayLangs": [
    "*"
   ],
   "hotkey": "alt-t",
   "langInMainMenu": true,
   "sourceLang": "en",
   "targetLang": "fr",
   "useGoogleTranslate": true
  },
  "toc": {
   "base_numbering": 1,
   "nav_menu": {},
   "number_sections": true,
   "sideBar": true,
   "skip_h1_title": false,
   "title_cell": "Table of Contents",
   "title_sidebar": "Contents",
   "toc_cell": false,
   "toc_position": {},
   "toc_section_display": true,
   "toc_window_display": false
  },
  "varInspector": {
   "cols": {
    "lenName": 16,
    "lenType": 16,
    "lenVar": 40
   },
   "kernels_config": {
    "python": {
     "delete_cmd_postfix": "",
     "delete_cmd_prefix": "del ",
     "library": "var_list.py",
     "varRefreshCmd": "print(var_dic_list())"
    },
    "r": {
     "delete_cmd_postfix": ") ",
     "delete_cmd_prefix": "rm(",
     "library": "var_list.r",
     "varRefreshCmd": "cat(var_dic_list()) "
    }
   },
   "types_to_exclude": [
    "module",
    "function",
    "builtin_function_or_method",
    "instance",
    "_Feature"
   ],
   "window_display": false
  }
 },
 "nbformat": 4,
 "nbformat_minor": 4
}
