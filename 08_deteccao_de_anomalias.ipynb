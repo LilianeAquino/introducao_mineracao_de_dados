{
 "cells": [
  {
   "cell_type": "markdown",
   "metadata": {},
   "source": [
    "# Capítulo 8 - Detecção de anomalias"
   ]
  },
  {
   "cell_type": "markdown",
   "metadata": {},
   "source": [
    "## Bibliotecas básicas e outras inicializações"
   ]
  },
  {
   "cell_type": "code",
   "execution_count": 1,
   "metadata": {
    "ExecuteTime": {
     "end_time": "2021-07-14T10:34:25.630448Z",
     "start_time": "2021-07-14T10:34:24.764576Z"
    }
   },
   "outputs": [],
   "source": [
    "import warnings\n",
    "import pandas as pd\n",
    "import numpy as np\n",
    "import seaborn as sns\n",
    "import matplotlib.pyplot as plt\n",
    "%matplotlib inline\n",
    "\n",
    "warnings.filterwarnings('ignore')"
   ]
  },
  {
   "cell_type": "markdown",
   "metadata": {},
   "source": [
    "## Carregamento dos dados"
   ]
  },
  {
   "cell_type": "code",
   "execution_count": 2,
   "metadata": {
    "ExecuteTime": {
     "end_time": "2021-07-14T10:34:26.660089Z",
     "start_time": "2021-07-14T10:34:25.633413Z"
    }
   },
   "outputs": [
    {
     "name": "stdout",
     "output_type": "stream",
     "text": [
      "Linhas: 100000 | Colunas: 27\n"
     ]
    },
    {
     "data": {
      "text/html": [
       "<div>\n",
       "<style scoped>\n",
       "    .dataframe tbody tr th:only-of-type {\n",
       "        vertical-align: middle;\n",
       "    }\n",
       "\n",
       "    .dataframe tbody tr th {\n",
       "        vertical-align: top;\n",
       "    }\n",
       "\n",
       "    .dataframe thead th {\n",
       "        text-align: right;\n",
       "    }\n",
       "</style>\n",
       "<table border=\"1\" class=\"dataframe\">\n",
       "  <thead>\n",
       "    <tr style=\"text-align: right;\">\n",
       "      <th></th>\n",
       "      <th>index</th>\n",
       "      <th>National Provider Identifier</th>\n",
       "      <th>Last Name/Organization Name of the Provider</th>\n",
       "      <th>First Name of the Provider</th>\n",
       "      <th>Middle Initial of the Provider</th>\n",
       "      <th>Credentials of the Provider</th>\n",
       "      <th>Gender of the Provider</th>\n",
       "      <th>Entity Type of the Provider</th>\n",
       "      <th>Street Address 1 of the Provider</th>\n",
       "      <th>Street Address 2 of the Provider</th>\n",
       "      <th>...</th>\n",
       "      <th>HCPCS Code</th>\n",
       "      <th>HCPCS Description</th>\n",
       "      <th>HCPCS Drug Indicator</th>\n",
       "      <th>Number of Services</th>\n",
       "      <th>Number of Medicare Beneficiaries</th>\n",
       "      <th>Number of Distinct Medicare Beneficiary/Per Day Services</th>\n",
       "      <th>Average Medicare Allowed Amount</th>\n",
       "      <th>Average Submitted Charge Amount</th>\n",
       "      <th>Average Medicare Payment Amount</th>\n",
       "      <th>Average Medicare Standardized Amount</th>\n",
       "    </tr>\n",
       "  </thead>\n",
       "  <tbody>\n",
       "    <tr>\n",
       "      <th>38246</th>\n",
       "      <td>5261126</td>\n",
       "      <td>1538166996</td>\n",
       "      <td>LEWIS</td>\n",
       "      <td>DOUGLAS</td>\n",
       "      <td>E</td>\n",
       "      <td>D.O.</td>\n",
       "      <td>M</td>\n",
       "      <td>I</td>\n",
       "      <td>6700 SW 9TH AVE</td>\n",
       "      <td>NaN</td>\n",
       "      <td>...</td>\n",
       "      <td>85025</td>\n",
       "      <td>Complete blood cell count (red cells, white bl...</td>\n",
       "      <td>N</td>\n",
       "      <td>160</td>\n",
       "      <td>125</td>\n",
       "      <td>160</td>\n",
       "      <td>10.66</td>\n",
       "      <td>40</td>\n",
       "      <td>10.45</td>\n",
       "      <td>10.45</td>\n",
       "    </tr>\n",
       "  </tbody>\n",
       "</table>\n",
       "<p>1 rows × 27 columns</p>\n",
       "</div>"
      ],
      "text/plain": [
       "         index  National Provider Identifier  \\\n",
       "38246  5261126                    1538166996   \n",
       "\n",
       "      Last Name/Organization Name of the Provider First Name of the Provider  \\\n",
       "38246                                       LEWIS                    DOUGLAS   \n",
       "\n",
       "      Middle Initial of the Provider Credentials of the Provider  \\\n",
       "38246                              E                        D.O.   \n",
       "\n",
       "      Gender of the Provider Entity Type of the Provider  \\\n",
       "38246                      M                           I   \n",
       "\n",
       "      Street Address 1 of the Provider Street Address 2 of the Provider  ...  \\\n",
       "38246                  6700 SW 9TH AVE                              NaN  ...   \n",
       "\n",
       "      HCPCS Code                                  HCPCS Description  \\\n",
       "38246      85025  Complete blood cell count (red cells, white bl...   \n",
       "\n",
       "      HCPCS Drug Indicator Number of Services  \\\n",
       "38246                    N                160   \n",
       "\n",
       "      Number of Medicare Beneficiaries  \\\n",
       "38246                              125   \n",
       "\n",
       "      Number of Distinct Medicare Beneficiary/Per Day Services  \\\n",
       "38246                                                160         \n",
       "\n",
       "      Average Medicare Allowed Amount Average Submitted Charge Amount  \\\n",
       "38246                           10.66                              40   \n",
       "\n",
       "      Average Medicare Payment Amount Average Medicare Standardized Amount  \n",
       "38246                           10.45                                10.45  \n",
       "\n",
       "[1 rows x 27 columns]"
      ]
     },
     "execution_count": 2,
     "metadata": {},
     "output_type": "execute_result"
    }
   ],
   "source": [
    "dados = pd.read_csv('./datasets/HealthcareProviders.csv')\n",
    "print(f'Linhas: {dados.shape[0]} | Colunas: {dados.shape[1]}')\n",
    "dados.sample()"
   ]
  },
  {
   "cell_type": "markdown",
   "metadata": {},
   "source": [
    "## Dicionário dos dados"
   ]
  },
  {
   "cell_type": "markdown",
   "metadata": {},
   "source": [
    "- **index**: código do registro.\n",
    "\n",
    "- **National Provider Identifier (NPI)**: identificador de Provedor Nacional para o provedor de desempenho no sinistro. O provedor NPI é o identificador numérico registrado no NPPES.\n",
    "\n",
    "- **Last Name/Organization Name of the Provider**: quando o provedor está registrado no NPPES como um indivíduo (código de tipo de entidade = 'I') este é o sobrenome do provedor e quando o provedor está registrado como uma organização (código de tipo de entidade = 'O') este é o nome da organização.\n",
    "\n",
    "- **First Name of the Provider**: quando o provedor está registrado no NPPES como um indivíduo (código de tipo de entidade = 'I') este é o primeiro nome do provedor e quando o provedor está registrado como uma organização (código de tipo de entidade = 'O'), estará em branco.\n",
    "\n",
    "- **Middle Initial of the Provider**: inicial do meio do fornecedor.\n",
    " \n",
    "- **Credentials of the Provider**: quando o provedor está registrado no NPPES como um indivíduo (código de tipo de entidade = 'I') essas são as credenciais do provedor e quando o provedor está registrado como uma organização (código de tipo de entidade = 'O'), estará em branco.\n",
    "\n",
    "- **Gender of the Provider**: quando o provedor está registrado no NPPES como um indivíduo (código de tipo de entidade = 'I') este é o gênero do provedor e quando o provedor está registrado como uma organização (código de tipo de entidade = 'O'), estará em branco.\n",
    "\n",
    "- **Entity Type of the Provider**: tipo de entidade relatada no NPPES. Código de entidade 'I' identifica provedores registrados como indivíduos e o código de entidade 'O' identifica provedores registrados como organizações.\n",
    "\n",
    "- **Street Address 1 of the Provider**: a primeira linha do endereço do provedor, conforme relatado no NPPES.\n",
    "\n",
    "- **Street Address 2 of the Provider**: a segunda linha do endereço do provedor, conforme relatado no NPPES.\n",
    "\n",
    "- **City of the Provider**: cidade onde o provedor está localizado, conforme informado no NPPES.\n",
    "\n",
    "- **Zip Code of the Provider**: código postal do provedor, conforme relatado no NPPES.\n",
    "\n",
    "- **State Code of the Provider***: estado onde o provedor está localizado, conforme relatado no NPPES. Os 50 estados dos EUA e o Distrito de Columbia são informados pela abreviatura postal estadual. Os seguintes valores são usados para todas as outras áreas: 'XX' = 'Desconhecido', 'AA' = 'Forças Armadas Central / América do Sul', 'AE' = 'Forças Armadas da Europa', 'AP' = 'Forças Armadas do Pacífico', 'AS' = 'Samoa Americana', 'GU' = 'Guam', 'MP' = 'Ilhas Marianas do Norte', 'PR' = 'Porto Rico', 'VI' = 'Ilhas Virgens', 'ZZ' = 'País Estrangeiro'.\n",
    "\n",
    "- **Country Code of the Provider**: país onde o provedor está localizado, conforme relatado no NPPES. O código do país será 'EUA' para qualquer estado ou posse dos EUA. Para países estrangeiros os valores do país do provedor incluem o seguinte: AE = Emirados Árabes Unidos, IT = Itália, AG = Antigua, JO = Jordan, AR = Argentina, JP = Japão, AU = Austrália, KR = Coréia, BO = Bolívia, KW = Kuwait, BR = Brasil, KY = Ilhas Cayman, CA = Canadá, LB = Líbano, CH = Suíça, MX = México, CN = China, NL = Holanda, CO = Colômbia, NO = Noruega, DE = Alemanha, NZ = Nova Zelândia, ES = Espanha, PA = Panamá, FR = França, PK = Paquistão, GB = Grã-Bretanha, RW = Ruanda, GR = Grécia, SA = Arábia Saudita, HU = Hungria, SY = Síria, IL = Israel, TH = Tailândia, IN = Índia, TR = Turquia, IS = Islândia, VE = Venezuela.\n",
    "\n",
    "- **Provider Type**: derivado do código de especialidade do provedor relatado na reclamação.\n",
    "\n",
    "- **Medicare Participation Indicator**: identifica se o provedor participa do Medicare e/ou aceita a atribuição de valores permitidos do Medicare.\n",
    "\n",
    "- **Place of Service***: identifica se o local de serviço apresentado nas reivindicações é uma instalação ('F') ou não-instalação ('O'). A ausência de instalações é geralmente um ambiente de escritório, no entanto, outras entidades estão incluídas em non-facilit.\n",
    "\n",
    "- **HCPCS Code**: código HCPCS usado para identificar o serviço médico específico fornecido pelo provedor.\n",
    "\n",
    "- **HCPCS Description**: descrição do código HCPCS para o serviço médico específico fornecido pelo provedor.\n",
    "\n",
    "- **HCPCS Drug Indicator**: identifica se o código HCPCS para o serviço específico fornecido pelo provedor é um HCPCS listado no arquivo de preço médio de venda de medicamentos (ASP) do Medicare Parte B.\n",
    "\n",
    "- **Number of Services**: número de serviços prestados. Observe que as métricas usadas para contar o número fornecido podem variar de serviço para serviço.\n",
    "\n",
    "- **Number of Medicare Beneficiaries**: número de beneficiários distintos do Medicare que recebem o serviço.\n",
    "\n",
    "- **Number of Distinct Medicare Beneficiary/Per Day Services**: número de beneficiários distintos do Medicare/serviços diários.\n",
    "\n",
    "- **Average Medicare Allowed Amount**: média do valor permitido pelo Medicare para o serviço.\n",
    "\n",
    "- **Average Submitted Charge Amount**: média das cobranças que o provedor enviou para o serviço.\n",
    "\n",
    "- **Average Medicare Payment Amount'**: valor médio que o Medicare pagou depois que os valores de franquia e cosseguro foram deduzidos para o serviço de item de linha.\n",
    "\n",
    "- **Average Medicare Standardized Amount**: quantidade média padronizada do Medicare."
   ]
  },
  {
   "cell_type": "markdown",
   "metadata": {},
   "source": [
    "### Informação dos dados"
   ]
  },
  {
   "cell_type": "code",
   "execution_count": 3,
   "metadata": {
    "ExecuteTime": {
     "end_time": "2021-07-14T10:34:26.844369Z",
     "start_time": "2021-07-14T10:34:26.664629Z"
    }
   },
   "outputs": [
    {
     "name": "stdout",
     "output_type": "stream",
     "text": [
      "<class 'pandas.core.frame.DataFrame'>\n",
      "RangeIndex: 100000 entries, 0 to 99999\n",
      "Data columns (total 27 columns):\n",
      " #   Column                                                    Non-Null Count   Dtype  \n",
      "---  ------                                                    --------------   -----  \n",
      " 0   index                                                     100000 non-null  int64  \n",
      " 1   National Provider Identifier                              100000 non-null  int64  \n",
      " 2   Last Name/Organization Name of the Provider               100000 non-null  object \n",
      " 3   First Name of the Provider                                95745 non-null   object \n",
      " 4   Middle Initial of the Provider                            70669 non-null   object \n",
      " 5   Credentials of the Provider                               92791 non-null   object \n",
      " 6   Gender of the Provider                                    95746 non-null   object \n",
      " 7   Entity Type of the Provider                               100000 non-null  object \n",
      " 8   Street Address 1 of the Provider                          100000 non-null  object \n",
      " 9   Street Address 2 of the Provider                          40637 non-null   object \n",
      " 10  City of the Provider                                      100000 non-null  object \n",
      " 11  Zip Code of the Provider                                  100000 non-null  float64\n",
      " 12  State Code of the Provider                                100000 non-null  object \n",
      " 13  Country Code of the Provider                              100000 non-null  object \n",
      " 14  Provider Type                                             100000 non-null  object \n",
      " 15  Medicare Participation Indicator                          100000 non-null  object \n",
      " 16  Place of Service                                          100000 non-null  object \n",
      " 17  HCPCS Code                                                100000 non-null  object \n",
      " 18  HCPCS Description                                         100000 non-null  object \n",
      " 19  HCPCS Drug Indicator                                      100000 non-null  object \n",
      " 20  Number of Services                                        100000 non-null  object \n",
      " 21  Number of Medicare Beneficiaries                          100000 non-null  object \n",
      " 22  Number of Distinct Medicare Beneficiary/Per Day Services  100000 non-null  object \n",
      " 23  Average Medicare Allowed Amount                           100000 non-null  object \n",
      " 24  Average Submitted Charge Amount                           100000 non-null  object \n",
      " 25  Average Medicare Payment Amount                           100000 non-null  object \n",
      " 26  Average Medicare Standardized Amount                      100000 non-null  object \n",
      "dtypes: float64(1), int64(2), object(24)\n",
      "memory usage: 20.6+ MB\n"
     ]
    }
   ],
   "source": [
    "dados.info()"
   ]
  },
  {
   "cell_type": "markdown",
   "metadata": {},
   "source": [
    "### Seleção de recursos"
   ]
  },
  {
   "cell_type": "code",
   "execution_count": 4,
   "metadata": {
    "ExecuteTime": {
     "end_time": "2021-07-14T10:34:27.221418Z",
     "start_time": "2021-07-14T10:34:26.848429Z"
    }
   },
   "outputs": [],
   "source": [
    "dropCols = ['index', 'National Provider Identifier', 'Last Name/Organization Name of the Provider',\n",
    "            'First Name of the Provider', 'Middle Initial of the Provider', 'Street Address 1 of the Provider',\n",
    "            'Street Address 2 of the Provider', 'Zip Code of the Provider', 'HCPCS Code']\n",
    "\n",
    "dados.drop(dropCols, inplace=True, axis=1)\n",
    "dados.reset_index(drop=True, inplace=True)"
   ]
  },
  {
   "cell_type": "markdown",
   "metadata": {},
   "source": [
    "### Colunas numéricas"
   ]
  },
  {
   "cell_type": "code",
   "execution_count": 5,
   "metadata": {
    "ExecuteTime": {
     "end_time": "2021-07-14T10:34:28.361002Z",
     "start_time": "2021-07-14T10:34:27.223888Z"
    },
    "code_folding": []
   },
   "outputs": [],
   "source": [
    "cols = [\n",
    "     'Number of Services', \n",
    "     'Number of Medicare Beneficiaries', \n",
    "     'Number of Distinct Medicare Beneficiary/Per Day Services', \n",
    "     'Average Medicare Allowed Amount', \n",
    "     'Average Submitted Charge Amount',\n",
    "     'Average Medicare Payment Amount',\n",
    "     'Average Medicare Standardized Amount'\n",
    "]\n",
    "\n",
    "def removeComma(x):\n",
    "    return x.replace(',', '')\n",
    "\n",
    "for c in cols:\n",
    "    dados[c] = pd.to_numeric(dados[c].apply(lambda x: removeComma(x)), errors= 'ignore')"
   ]
  },
  {
   "cell_type": "markdown",
   "metadata": {},
   "source": [
    "### Remoção dos nulos"
   ]
  },
  {
   "cell_type": "code",
   "execution_count": 6,
   "metadata": {
    "ExecuteTime": {
     "end_time": "2021-07-14T10:34:28.471783Z",
     "start_time": "2021-07-14T10:34:28.363749Z"
    }
   },
   "outputs": [
    {
     "name": "stdout",
     "output_type": "stream",
     "text": [
      "Credentials of the Provider                                 0\n",
      "Gender of the Provider                                      0\n",
      "Entity Type of the Provider                                 0\n",
      "City of the Provider                                        0\n",
      "State Code of the Provider                                  0\n",
      "Country Code of the Provider                                0\n",
      "Provider Type                                               0\n",
      "Medicare Participation Indicator                            0\n",
      "Place of Service                                            0\n",
      "HCPCS Description                                           0\n",
      "HCPCS Drug Indicator                                        0\n",
      "Number of Services                                          0\n",
      "Number of Medicare Beneficiaries                            0\n",
      "Number of Distinct Medicare Beneficiary/Per Day Services    0\n",
      "Average Medicare Allowed Amount                             0\n",
      "Average Submitted Charge Amount                             0\n",
      "Average Medicare Payment Amount                             0\n",
      "Average Medicare Standardized Amount                        0\n",
      "dtype: int64\n"
     ]
    }
   ],
   "source": [
    "cols = ['Credentials of the Provider', 'Gender of the Provider']\n",
    "for c in cols:\n",
    "    dados[c] = dados[c].fillna(dados[c].mode()[0])\n",
    "    \n",
    "print(dados.isna().sum())"
   ]
  },
  {
   "cell_type": "markdown",
   "metadata": {},
   "source": [
    "### Colunas categóricas"
   ]
  },
  {
   "cell_type": "code",
   "execution_count": 7,
   "metadata": {
    "ExecuteTime": {
     "end_time": "2021-07-14T10:34:30.645396Z",
     "start_time": "2021-07-14T10:34:28.474658Z"
    }
   },
   "outputs": [],
   "source": [
    "import category_encoders as ce\n",
    "from sklearn.preprocessing import StandardScaler\n",
    "\n",
    "def transformCategoricalIntoNumeric(data):\n",
    "    cols = [var for var in data.columns if data[var].dtype == 'O']\n",
    "    \n",
    "    for col in cols:\n",
    "        encoder = ce.BinaryEncoder(cols=[col])\n",
    "        dfbin = encoder.fit_transform(data[col])\n",
    "        data = pd.concat([data, dfbin], axis=1)\n",
    "        del data[col]\n",
    "     \n",
    "    data_columns = data.columns\n",
    "    std = StandardScaler()\n",
    "    data = std.fit_transform(data)\n",
    "    data = pd.DataFrame(data, columns=data_columns)\n",
    "    return data\n",
    "\n",
    "dados = transformCategoricalIntoNumeric(dados)"
   ]
  },
  {
   "cell_type": "markdown",
   "metadata": {},
   "source": [
    "### Visão dos dados"
   ]
  },
  {
   "cell_type": "code",
   "execution_count": 8,
   "metadata": {
    "ExecuteTime": {
     "end_time": "2021-07-14T10:34:30.691335Z",
     "start_time": "2021-07-14T10:34:30.648423Z"
    }
   },
   "outputs": [
    {
     "name": "stdout",
     "output_type": "stream",
     "text": [
      "Linhas: 100000 | Colunas: 74\n"
     ]
    },
    {
     "data": {
      "text/html": [
       "<div>\n",
       "<style scoped>\n",
       "    .dataframe tbody tr th:only-of-type {\n",
       "        vertical-align: middle;\n",
       "    }\n",
       "\n",
       "    .dataframe tbody tr th {\n",
       "        vertical-align: top;\n",
       "    }\n",
       "\n",
       "    .dataframe thead th {\n",
       "        text-align: right;\n",
       "    }\n",
       "</style>\n",
       "<table border=\"1\" class=\"dataframe\">\n",
       "  <thead>\n",
       "    <tr style=\"text-align: right;\">\n",
       "      <th></th>\n",
       "      <th>Number of Services</th>\n",
       "      <th>Number of Medicare Beneficiaries</th>\n",
       "      <th>Number of Distinct Medicare Beneficiary/Per Day Services</th>\n",
       "      <th>Average Medicare Allowed Amount</th>\n",
       "      <th>Average Submitted Charge Amount</th>\n",
       "      <th>Average Medicare Payment Amount</th>\n",
       "      <th>Average Medicare Standardized Amount</th>\n",
       "      <th>Credentials of the Provider_0</th>\n",
       "      <th>Credentials of the Provider_1</th>\n",
       "      <th>Credentials of the Provider_2</th>\n",
       "      <th>...</th>\n",
       "      <th>HCPCS Description_5</th>\n",
       "      <th>HCPCS Description_6</th>\n",
       "      <th>HCPCS Description_7</th>\n",
       "      <th>HCPCS Description_8</th>\n",
       "      <th>HCPCS Description_9</th>\n",
       "      <th>HCPCS Description_10</th>\n",
       "      <th>HCPCS Description_11</th>\n",
       "      <th>HCPCS Description_12</th>\n",
       "      <th>HCPCS Drug Indicator_0</th>\n",
       "      <th>HCPCS Drug Indicator_1</th>\n",
       "    </tr>\n",
       "  </thead>\n",
       "  <tbody>\n",
       "    <tr>\n",
       "      <th>0</th>\n",
       "      <td>-0.085301</td>\n",
       "      <td>-0.059308</td>\n",
       "      <td>-0.070183</td>\n",
       "      <td>0.385450</td>\n",
       "      <td>-0.046433</td>\n",
       "      <td>0.400082</td>\n",
       "      <td>0.414299</td>\n",
       "      <td>0.0</td>\n",
       "      <td>-0.097882</td>\n",
       "      <td>-0.115257</td>\n",
       "      <td>...</td>\n",
       "      <td>-0.674247</td>\n",
       "      <td>-0.734606</td>\n",
       "      <td>-0.985032</td>\n",
       "      <td>-1.05161</td>\n",
       "      <td>-0.963872</td>\n",
       "      <td>-0.893767</td>\n",
       "      <td>-0.984165</td>\n",
       "      <td>0.987083</td>\n",
       "      <td>-0.257051</td>\n",
       "      <td>0.257051</td>\n",
       "    </tr>\n",
       "    <tr>\n",
       "      <th>1</th>\n",
       "      <td>-0.025939</td>\n",
       "      <td>0.076775</td>\n",
       "      <td>0.020049</td>\n",
       "      <td>0.086673</td>\n",
       "      <td>0.182805</td>\n",
       "      <td>0.207649</td>\n",
       "      <td>0.286359</td>\n",
       "      <td>0.0</td>\n",
       "      <td>-0.097882</td>\n",
       "      <td>-0.115257</td>\n",
       "      <td>...</td>\n",
       "      <td>-0.674247</td>\n",
       "      <td>-0.734606</td>\n",
       "      <td>-0.985032</td>\n",
       "      <td>-1.05161</td>\n",
       "      <td>-0.963872</td>\n",
       "      <td>-0.893767</td>\n",
       "      <td>1.016089</td>\n",
       "      <td>-1.013086</td>\n",
       "      <td>-0.257051</td>\n",
       "      <td>0.257051</td>\n",
       "    </tr>\n",
       "    <tr>\n",
       "      <th>2</th>\n",
       "      <td>-0.083296</td>\n",
       "      <td>-0.069222</td>\n",
       "      <td>-0.067135</td>\n",
       "      <td>-0.041922</td>\n",
       "      <td>-0.187794</td>\n",
       "      <td>-0.064687</td>\n",
       "      <td>-0.087154</td>\n",
       "      <td>0.0</td>\n",
       "      <td>-0.097882</td>\n",
       "      <td>-0.115257</td>\n",
       "      <td>...</td>\n",
       "      <td>-0.674247</td>\n",
       "      <td>-0.734606</td>\n",
       "      <td>-0.985032</td>\n",
       "      <td>-1.05161</td>\n",
       "      <td>-0.963872</td>\n",
       "      <td>-0.893767</td>\n",
       "      <td>1.016089</td>\n",
       "      <td>0.987083</td>\n",
       "      <td>-0.257051</td>\n",
       "      <td>0.257051</td>\n",
       "    </tr>\n",
       "    <tr>\n",
       "      <th>3</th>\n",
       "      <td>-0.088109</td>\n",
       "      <td>-0.064716</td>\n",
       "      <td>-0.074451</td>\n",
       "      <td>-0.380709</td>\n",
       "      <td>-0.328957</td>\n",
       "      <td>-0.370166</td>\n",
       "      <td>-0.372921</td>\n",
       "      <td>0.0</td>\n",
       "      <td>-0.097882</td>\n",
       "      <td>-0.115257</td>\n",
       "      <td>...</td>\n",
       "      <td>-0.674247</td>\n",
       "      <td>-0.734606</td>\n",
       "      <td>-0.985032</td>\n",
       "      <td>-1.05161</td>\n",
       "      <td>-0.963872</td>\n",
       "      <td>1.118859</td>\n",
       "      <td>-0.984165</td>\n",
       "      <td>-1.013086</td>\n",
       "      <td>-0.257051</td>\n",
       "      <td>0.257051</td>\n",
       "    </tr>\n",
       "    <tr>\n",
       "      <th>4</th>\n",
       "      <td>-0.082895</td>\n",
       "      <td>-0.059308</td>\n",
       "      <td>-0.067744</td>\n",
       "      <td>-0.291221</td>\n",
       "      <td>-0.296019</td>\n",
       "      <td>-0.289505</td>\n",
       "      <td>-0.294800</td>\n",
       "      <td>0.0</td>\n",
       "      <td>-0.097882</td>\n",
       "      <td>-0.115257</td>\n",
       "      <td>...</td>\n",
       "      <td>-0.674247</td>\n",
       "      <td>-0.734606</td>\n",
       "      <td>-0.985032</td>\n",
       "      <td>-1.05161</td>\n",
       "      <td>-0.963872</td>\n",
       "      <td>1.118859</td>\n",
       "      <td>-0.984165</td>\n",
       "      <td>0.987083</td>\n",
       "      <td>-0.257051</td>\n",
       "      <td>0.257051</td>\n",
       "    </tr>\n",
       "  </tbody>\n",
       "</table>\n",
       "<p>5 rows × 74 columns</p>\n",
       "</div>"
      ],
      "text/plain": [
       "   Number of Services  Number of Medicare Beneficiaries  \\\n",
       "0           -0.085301                         -0.059308   \n",
       "1           -0.025939                          0.076775   \n",
       "2           -0.083296                         -0.069222   \n",
       "3           -0.088109                         -0.064716   \n",
       "4           -0.082895                         -0.059308   \n",
       "\n",
       "   Number of Distinct Medicare Beneficiary/Per Day Services  \\\n",
       "0                                          -0.070183          \n",
       "1                                           0.020049          \n",
       "2                                          -0.067135          \n",
       "3                                          -0.074451          \n",
       "4                                          -0.067744          \n",
       "\n",
       "   Average Medicare Allowed Amount  Average Submitted Charge Amount  \\\n",
       "0                         0.385450                        -0.046433   \n",
       "1                         0.086673                         0.182805   \n",
       "2                        -0.041922                        -0.187794   \n",
       "3                        -0.380709                        -0.328957   \n",
       "4                        -0.291221                        -0.296019   \n",
       "\n",
       "   Average Medicare Payment Amount  Average Medicare Standardized Amount  \\\n",
       "0                         0.400082                              0.414299   \n",
       "1                         0.207649                              0.286359   \n",
       "2                        -0.064687                             -0.087154   \n",
       "3                        -0.370166                             -0.372921   \n",
       "4                        -0.289505                             -0.294800   \n",
       "\n",
       "   Credentials of the Provider_0  Credentials of the Provider_1  \\\n",
       "0                            0.0                      -0.097882   \n",
       "1                            0.0                      -0.097882   \n",
       "2                            0.0                      -0.097882   \n",
       "3                            0.0                      -0.097882   \n",
       "4                            0.0                      -0.097882   \n",
       "\n",
       "   Credentials of the Provider_2  ...  HCPCS Description_5  \\\n",
       "0                      -0.115257  ...            -0.674247   \n",
       "1                      -0.115257  ...            -0.674247   \n",
       "2                      -0.115257  ...            -0.674247   \n",
       "3                      -0.115257  ...            -0.674247   \n",
       "4                      -0.115257  ...            -0.674247   \n",
       "\n",
       "   HCPCS Description_6  HCPCS Description_7  HCPCS Description_8  \\\n",
       "0            -0.734606            -0.985032             -1.05161   \n",
       "1            -0.734606            -0.985032             -1.05161   \n",
       "2            -0.734606            -0.985032             -1.05161   \n",
       "3            -0.734606            -0.985032             -1.05161   \n",
       "4            -0.734606            -0.985032             -1.05161   \n",
       "\n",
       "   HCPCS Description_9  HCPCS Description_10  HCPCS Description_11  \\\n",
       "0            -0.963872             -0.893767             -0.984165   \n",
       "1            -0.963872             -0.893767              1.016089   \n",
       "2            -0.963872             -0.893767              1.016089   \n",
       "3            -0.963872              1.118859             -0.984165   \n",
       "4            -0.963872              1.118859             -0.984165   \n",
       "\n",
       "   HCPCS Description_12  HCPCS Drug Indicator_0  HCPCS Drug Indicator_1  \n",
       "0              0.987083               -0.257051                0.257051  \n",
       "1             -1.013086               -0.257051                0.257051  \n",
       "2              0.987083               -0.257051                0.257051  \n",
       "3             -1.013086               -0.257051                0.257051  \n",
       "4              0.987083               -0.257051                0.257051  \n",
       "\n",
       "[5 rows x 74 columns]"
      ]
     },
     "execution_count": 8,
     "metadata": {},
     "output_type": "execute_result"
    }
   ],
   "source": [
    "print(f'Linhas: {dados.shape[0]} | Colunas: {dados.shape[1]}')\n",
    "dados.head()"
   ]
  }
 ],
 "metadata": {
  "hide_input": false,
  "kernelspec": {
   "display_name": "Python 3",
   "language": "python",
   "name": "python3"
  },
  "language_info": {
   "codemirror_mode": {
    "name": "ipython",
    "version": 3
   },
   "file_extension": ".py",
   "mimetype": "text/x-python",
   "name": "python",
   "nbconvert_exporter": "python",
   "pygments_lexer": "ipython3",
   "version": "3.7.5"
  },
  "nbTranslate": {
   "displayLangs": [
    "*"
   ],
   "hotkey": "alt-t",
   "langInMainMenu": true,
   "sourceLang": "en",
   "targetLang": "fr",
   "useGoogleTranslate": true
  },
  "toc": {
   "base_numbering": 1,
   "nav_menu": {},
   "number_sections": true,
   "sideBar": true,
   "skip_h1_title": false,
   "title_cell": "Table of Contents",
   "title_sidebar": "Contents",
   "toc_cell": false,
   "toc_position": {},
   "toc_section_display": true,
   "toc_window_display": false
  },
  "varInspector": {
   "cols": {
    "lenName": 16,
    "lenType": 16,
    "lenVar": 40
   },
   "kernels_config": {
    "python": {
     "delete_cmd_postfix": "",
     "delete_cmd_prefix": "del ",
     "library": "var_list.py",
     "varRefreshCmd": "print(var_dic_list())"
    },
    "r": {
     "delete_cmd_postfix": ") ",
     "delete_cmd_prefix": "rm(",
     "library": "var_list.r",
     "varRefreshCmd": "cat(var_dic_list()) "
    }
   },
   "types_to_exclude": [
    "module",
    "function",
    "builtin_function_or_method",
    "instance",
    "_Feature"
   ],
   "window_display": false
  }
 },
 "nbformat": 4,
 "nbformat_minor": 4
}
