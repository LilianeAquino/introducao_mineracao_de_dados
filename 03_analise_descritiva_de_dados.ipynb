{
 "cells": [
  {
   "cell_type": "markdown",
   "metadata": {},
   "source": [
    "# Capítulo 3 - Análise descritiva de dados"
   ]
  },
  {
   "cell_type": "markdown",
   "metadata": {},
   "source": [
    "## Bibliotecas básicas e outras inicializações"
   ]
  },
  {
   "cell_type": "code",
   "execution_count": 1,
   "metadata": {
    "ExecuteTime": {
     "end_time": "2021-04-27T15:05:28.386446Z",
     "start_time": "2021-04-27T15:05:27.536354Z"
    }
   },
   "outputs": [],
   "source": [
    "import pandas as pd\n",
    "import numpy as np\n",
    "import seaborn as sns\n",
    "import matplotlib.pyplot as plt\n",
    "%matplotlib inline\n",
    "\n",
    "import warnings\n",
    "warnings.filterwarnings('ignore')"
   ]
  },
  {
   "cell_type": "markdown",
   "metadata": {},
   "source": [
    "## Carregamento dos dados"
   ]
  },
  {
   "cell_type": "code",
   "execution_count": 2,
   "metadata": {
    "ExecuteTime": {
     "end_time": "2021-04-27T15:05:28.418632Z",
     "start_time": "2021-04-27T15:05:28.388852Z"
    }
   },
   "outputs": [
    {
     "name": "stdout",
     "output_type": "stream",
     "text": [
      "Linhas: 961 | Colunas: 6\n"
     ]
    },
    {
     "data": {
      "text/html": [
       "<div>\n",
       "<style scoped>\n",
       "    .dataframe tbody tr th:only-of-type {\n",
       "        vertical-align: middle;\n",
       "    }\n",
       "\n",
       "    .dataframe tbody tr th {\n",
       "        vertical-align: top;\n",
       "    }\n",
       "\n",
       "    .dataframe thead th {\n",
       "        text-align: right;\n",
       "    }\n",
       "</style>\n",
       "<table border=\"1\" class=\"dataframe\">\n",
       "  <thead>\n",
       "    <tr style=\"text-align: right;\">\n",
       "      <th></th>\n",
       "      <th>bi_rads</th>\n",
       "      <th>idade</th>\n",
       "      <th>forma_da_massa</th>\n",
       "      <th>contorno_da_massa</th>\n",
       "      <th>densidade_da_massa</th>\n",
       "      <th>severidade</th>\n",
       "    </tr>\n",
       "  </thead>\n",
       "  <tbody>\n",
       "    <tr>\n",
       "      <th>0</th>\n",
       "      <td>5.0</td>\n",
       "      <td>67.0</td>\n",
       "      <td>3.0</td>\n",
       "      <td>5.0</td>\n",
       "      <td>3.0</td>\n",
       "      <td>1</td>\n",
       "    </tr>\n",
       "    <tr>\n",
       "      <th>1</th>\n",
       "      <td>4.0</td>\n",
       "      <td>43.0</td>\n",
       "      <td>1.0</td>\n",
       "      <td>1.0</td>\n",
       "      <td>NaN</td>\n",
       "      <td>1</td>\n",
       "    </tr>\n",
       "    <tr>\n",
       "      <th>2</th>\n",
       "      <td>5.0</td>\n",
       "      <td>58.0</td>\n",
       "      <td>4.0</td>\n",
       "      <td>5.0</td>\n",
       "      <td>3.0</td>\n",
       "      <td>1</td>\n",
       "    </tr>\n",
       "    <tr>\n",
       "      <th>3</th>\n",
       "      <td>4.0</td>\n",
       "      <td>28.0</td>\n",
       "      <td>1.0</td>\n",
       "      <td>1.0</td>\n",
       "      <td>3.0</td>\n",
       "      <td>0</td>\n",
       "    </tr>\n",
       "    <tr>\n",
       "      <th>4</th>\n",
       "      <td>5.0</td>\n",
       "      <td>74.0</td>\n",
       "      <td>1.0</td>\n",
       "      <td>5.0</td>\n",
       "      <td>NaN</td>\n",
       "      <td>1</td>\n",
       "    </tr>\n",
       "  </tbody>\n",
       "</table>\n",
       "</div>"
      ],
      "text/plain": [
       "   bi_rads  idade  forma_da_massa  contorno_da_massa  densidade_da_massa  \\\n",
       "0      5.0   67.0             3.0                5.0                 3.0   \n",
       "1      4.0   43.0             1.0                1.0                 NaN   \n",
       "2      5.0   58.0             4.0                5.0                 3.0   \n",
       "3      4.0   28.0             1.0                1.0                 3.0   \n",
       "4      5.0   74.0             1.0                5.0                 NaN   \n",
       "\n",
       "   severidade  \n",
       "0           1  \n",
       "1           1  \n",
       "2           1  \n",
       "3           0  \n",
       "4           1  "
      ]
     },
     "execution_count": 2,
     "metadata": {},
     "output_type": "execute_result"
    }
   ],
   "source": [
    "dados = pd.read_csv('./datasets/mammographic_masses.data', \n",
    "                    names=['bi_rads', 'idade', 'forma_da_massa', 'contorno_da_massa', 'densidade_da_massa', 'severidade'], \n",
    "                    na_values='?')\n",
    "print(f'Linhas: {dados.shape[0]} | Colunas: {dados.shape[1]}')\n",
    "dados.head()"
   ]
  },
  {
   "cell_type": "code",
   "execution_count": 3,
   "metadata": {
    "ExecuteTime": {
     "end_time": "2021-04-27T15:05:28.727757Z",
     "start_time": "2021-04-27T15:05:28.423232Z"
    }
   },
   "outputs": [
    {
     "name": "stdout",
     "output_type": "stream",
     "text": [
      "<class 'pandas.core.frame.DataFrame'>\n",
      "RangeIndex: 961 entries, 0 to 960\n",
      "Data columns (total 6 columns):\n",
      " #   Column              Non-Null Count  Dtype  \n",
      "---  ------              --------------  -----  \n",
      " 0   bi_rads             959 non-null    float64\n",
      " 1   idade               956 non-null    float64\n",
      " 2   forma_da_massa      930 non-null    float64\n",
      " 3   contorno_da_massa   913 non-null    float64\n",
      " 4   densidade_da_massa  885 non-null    float64\n",
      " 5   severidade          961 non-null    int64  \n",
      "dtypes: float64(5), int64(1)\n",
      "memory usage: 45.2 KB\n"
     ]
    }
   ],
   "source": [
    "dados.info()"
   ]
  },
  {
   "cell_type": "markdown",
   "metadata": {},
   "source": [
    "### Dicionário dos dados"
   ]
  },
  {
   "cell_type": "markdown",
   "metadata": {},
   "source": [
    "**bi_rads**: sistema de clasificação adotado para estimar qual a chance de determinada imagem da mamografia ser câncer.{0-6}(float)\n",
    "\n",
    "**idade**: idade do paciente em anos.(float)\n",
    "\n",
    "**forma_da_massa**: {redonda=1, ovular=2, lobular=3, irregular=4}(float)\n",
    "\n",
    "**contorno_da_massa**: {circunscrita=1, microlobulada=2, obscura=3, mal definida=4, especulada=5}(float)\n",
    "\n",
    "**densidade_da_massa**: {alta=1, iso=2, baixa=3, gordurosa=4}(float)\n",
    "\n",
    "**severidade**: {benigno=0, maligno=1}(inteiro)"
   ]
  },
  {
   "cell_type": "markdown",
   "metadata": {},
   "source": [
    "## Limpeza da base"
   ]
  },
  {
   "cell_type": "code",
   "execution_count": 4,
   "metadata": {
    "ExecuteTime": {
     "end_time": "2021-04-27T15:05:28.964750Z",
     "start_time": "2021-04-27T15:05:28.736939Z"
    }
   },
   "outputs": [
    {
     "name": "stdout",
     "output_type": "stream",
     "text": [
      "Valores nulos na base: \n",
      "bi_rads               0\n",
      "idade                 0\n",
      "forma_da_massa        0\n",
      "contorno_da_massa     0\n",
      "densidade_da_massa    0\n",
      "severidade            0\n",
      "dtype: int64\n"
     ]
    }
   ],
   "source": [
    "for col in dados.iloc[:, 0:5].columns:\n",
    "    dados[col].fillna(method='ffill', inplace=True)\n",
    "    \n",
    "print(f'Valores nulos na base: \\n{dados.isnull().sum()}')"
   ]
  },
  {
   "cell_type": "markdown",
   "metadata": {},
   "source": [
    "### Dados ruidosos"
   ]
  },
  {
   "cell_type": "code",
   "execution_count": 5,
   "metadata": {
    "ExecuteTime": {
     "end_time": "2021-04-27T15:05:29.144525Z",
     "start_time": "2021-04-27T15:05:28.971312Z"
    }
   },
   "outputs": [
    {
     "data": {
      "text/plain": [
       "4.0     549\n",
       "5.0     345\n",
       "3.0      36\n",
       "2.0      14\n",
       "6.0      11\n",
       "0.0       5\n",
       "55.0      1\n",
       "Name: bi_rads, dtype: int64"
      ]
     },
     "execution_count": 5,
     "metadata": {},
     "output_type": "execute_result"
    }
   ],
   "source": [
    "dados['bi_rads'].value_counts()"
   ]
  },
  {
   "cell_type": "code",
   "execution_count": 6,
   "metadata": {
    "ExecuteTime": {
     "end_time": "2021-04-27T15:05:29.288934Z",
     "start_time": "2021-04-27T15:05:29.150359Z"
    }
   },
   "outputs": [
    {
     "data": {
      "text/plain": [
       "4.0    549\n",
       "5.0    346\n",
       "3.0     36\n",
       "2.0     14\n",
       "6.0     11\n",
       "0.0      5\n",
       "Name: bi_rads, dtype: int64"
      ]
     },
     "execution_count": 6,
     "metadata": {},
     "output_type": "execute_result"
    }
   ],
   "source": [
    "dados['bi_rads'][dados[dados['bi_rads']==55.0].index[0]] = 5.0\n",
    "dados['bi_rads'].value_counts()"
   ]
  },
  {
   "cell_type": "markdown",
   "metadata": {},
   "source": [
    "### Padronização dos dados"
   ]
  },
  {
   "cell_type": "code",
   "execution_count": 7,
   "metadata": {
    "ExecuteTime": {
     "end_time": "2021-04-27T15:05:29.531449Z",
     "start_time": "2021-04-27T15:05:29.295307Z"
    }
   },
   "outputs": [
    {
     "data": {
      "text/plain": [
       "bi_rads               int64\n",
       "idade                 int64\n",
       "forma_da_massa        int64\n",
       "contorno_da_massa     int64\n",
       "densidade_da_massa    int64\n",
       "severidade            int64\n",
       "dtype: object"
      ]
     },
     "execution_count": 7,
     "metadata": {},
     "output_type": "execute_result"
    }
   ],
   "source": [
    "for col in dados.columns:\n",
    "    dados[col] = dados[col].astype(int)    \n",
    "dados.dtypes"
   ]
  },
  {
   "cell_type": "markdown",
   "metadata": {},
   "source": [
    "## Análise descritiva dos dados"
   ]
  },
  {
   "cell_type": "markdown",
   "metadata": {},
   "source": [
    "### Distribuição de frequência"
   ]
  },
  {
   "cell_type": "code",
   "execution_count": 8,
   "metadata": {
    "ExecuteTime": {
     "end_time": "2021-04-27T15:05:29.634947Z",
     "start_time": "2021-04-27T15:05:29.537310Z"
    }
   },
   "outputs": [],
   "source": [
    "import math\n",
    "\n",
    "dados_copy= dados[['idade']].sort_values(by='idade', ascending=True)\n",
    "\n",
    "n_classe = 5\n",
    "amplitude_classe = math.ceil((dados_copy['idade'].max() - dados_copy['idade'].min())/n_classe)\n",
    "limite_inferior = dados_copy['idade'].min()\n",
    "limite_superior = dados_copy['idade'].max()\n",
    "\n",
    "frequencias = []\n",
    "valor = limite_inferior\n",
    "\n",
    "while valor < limite_superior:\n",
    "    frequencias.append('{} - {}'.format(round(valor,1), round(valor+amplitude_classe,1)))\n",
    "    valor += amplitude_classe"
   ]
  },
  {
   "cell_type": "code",
   "execution_count": 9,
   "metadata": {
    "ExecuteTime": {
     "end_time": "2021-04-27T15:05:29.748787Z",
     "start_time": "2021-04-27T15:05:29.640658Z"
    }
   },
   "outputs": [],
   "source": [
    "freq_abs = pd.qcut(dados_copy['idade'], len(frequencias), labels=frequencias)\n",
    "freq_rel = [round(i / len(freq_abs) * 100, 1) for i in pd.value_counts(freq_abs)]\n",
    "freq_acumulada = np.cumsum(freq_rel)"
   ]
  },
  {
   "cell_type": "code",
   "execution_count": 10,
   "metadata": {
    "ExecuteTime": {
     "end_time": "2021-04-27T15:05:29.879472Z",
     "start_time": "2021-04-27T15:05:29.755410Z"
    }
   },
   "outputs": [
    {
     "data": {
      "text/html": [
       "<div>\n",
       "<style scoped>\n",
       "    .dataframe tbody tr th:only-of-type {\n",
       "        vertical-align: middle;\n",
       "    }\n",
       "\n",
       "    .dataframe tbody tr th {\n",
       "        vertical-align: top;\n",
       "    }\n",
       "\n",
       "    .dataframe thead th {\n",
       "        text-align: right;\n",
       "    }\n",
       "</style>\n",
       "<table border=\"1\" class=\"dataframe\">\n",
       "  <thead>\n",
       "    <tr style=\"text-align: right;\">\n",
       "      <th></th>\n",
       "      <th>frequencia_absoluta</th>\n",
       "      <th>frequencia_relativa</th>\n",
       "      <th>frequencia_acumulada</th>\n",
       "    </tr>\n",
       "  </thead>\n",
       "  <tbody>\n",
       "    <tr>\n",
       "      <th>18 - 34</th>\n",
       "      <td>208</td>\n",
       "      <td>21.6</td>\n",
       "      <td>21.6</td>\n",
       "    </tr>\n",
       "    <tr>\n",
       "      <th>34 - 50</th>\n",
       "      <td>196</td>\n",
       "      <td>20.4</td>\n",
       "      <td>42.0</td>\n",
       "    </tr>\n",
       "    <tr>\n",
       "      <th>50 - 66</th>\n",
       "      <td>191</td>\n",
       "      <td>19.9</td>\n",
       "      <td>61.9</td>\n",
       "    </tr>\n",
       "    <tr>\n",
       "      <th>82 - 98</th>\n",
       "      <td>189</td>\n",
       "      <td>19.7</td>\n",
       "      <td>81.6</td>\n",
       "    </tr>\n",
       "    <tr>\n",
       "      <th>66 - 82</th>\n",
       "      <td>177</td>\n",
       "      <td>18.4</td>\n",
       "      <td>100.0</td>\n",
       "    </tr>\n",
       "  </tbody>\n",
       "</table>\n",
       "</div>"
      ],
      "text/plain": [
       "         frequencia_absoluta  frequencia_relativa  frequencia_acumulada\n",
       "18 - 34                  208                 21.6                  21.6\n",
       "34 - 50                  196                 20.4                  42.0\n",
       "50 - 66                  191                 19.9                  61.9\n",
       "82 - 98                  189                 19.7                  81.6\n",
       "66 - 82                  177                 18.4                 100.0"
      ]
     },
     "execution_count": 10,
     "metadata": {},
     "output_type": "execute_result"
    }
   ],
   "source": [
    "tabela_frequencia = pd.DataFrame({'frequencia_absoluta': pd.value_counts(freq_abs)})\n",
    "tabela_frequencia['frequencia_relativa'] = freq_rel\n",
    "tabela_frequencia['frequencia_acumulada'] = freq_acumulada\n",
    "tabela_frequencia"
   ]
  }
 ],
 "metadata": {
  "hide_input": false,
  "kernelspec": {
   "display_name": "Python 3",
   "language": "python",
   "name": "python3"
  },
  "language_info": {
   "codemirror_mode": {
    "name": "ipython",
    "version": 3
   },
   "file_extension": ".py",
   "mimetype": "text/x-python",
   "name": "python",
   "nbconvert_exporter": "python",
   "pygments_lexer": "ipython3",
   "version": "3.7.5"
  },
  "toc": {
   "base_numbering": 1,
   "nav_menu": {},
   "number_sections": true,
   "sideBar": true,
   "skip_h1_title": false,
   "title_cell": "Table of Contents",
   "title_sidebar": "Contents",
   "toc_cell": false,
   "toc_position": {},
   "toc_section_display": true,
   "toc_window_display": false
  },
  "varInspector": {
   "cols": {
    "lenName": 16,
    "lenType": 16,
    "lenVar": 40
   },
   "kernels_config": {
    "python": {
     "delete_cmd_postfix": "",
     "delete_cmd_prefix": "del ",
     "library": "var_list.py",
     "varRefreshCmd": "print(var_dic_list())"
    },
    "r": {
     "delete_cmd_postfix": ") ",
     "delete_cmd_prefix": "rm(",
     "library": "var_list.r",
     "varRefreshCmd": "cat(var_dic_list()) "
    }
   },
   "types_to_exclude": [
    "module",
    "function",
    "builtin_function_or_method",
    "instance",
    "_Feature"
   ],
   "window_display": false
  }
 },
 "nbformat": 4,
 "nbformat_minor": 4
}
