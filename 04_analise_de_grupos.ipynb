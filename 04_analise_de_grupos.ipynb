{
 "cells": [
  {
   "cell_type": "markdown",
   "metadata": {},
   "source": [
    "# Capítulo 4 - Análise de grupos"
   ]
  },
  {
   "cell_type": "markdown",
   "metadata": {},
   "source": [
    "## Bibliotecas básicas e outras inicializações"
   ]
  },
  {
   "cell_type": "code",
   "execution_count": 1,
   "metadata": {
    "ExecuteTime": {
     "end_time": "2021-05-05T10:19:17.287025Z",
     "start_time": "2021-05-05T10:18:59.730759Z"
    }
   },
   "outputs": [],
   "source": [
    "import pandas as pd\n",
    "import numpy as np\n",
    "import seaborn as sns\n",
    "import matplotlib.pyplot as plt\n",
    "%matplotlib inline\n",
    "\n",
    "import warnings\n",
    "warnings.filterwarnings('ignore')"
   ]
  },
  {
   "cell_type": "markdown",
   "metadata": {},
   "source": [
    "## Carregamento dos dados"
   ]
  },
  {
   "cell_type": "code",
   "execution_count": 2,
   "metadata": {
    "ExecuteTime": {
     "end_time": "2021-05-05T10:19:17.703460Z",
     "start_time": "2021-05-05T10:19:17.294319Z"
    }
   },
   "outputs": [
    {
     "name": "stdout",
     "output_type": "stream",
     "text": [
      "Linhas: 101 | Colunas: 18\n"
     ]
    },
    {
     "data": {
      "text/html": [
       "<div>\n",
       "<style scoped>\n",
       "    .dataframe tbody tr th:only-of-type {\n",
       "        vertical-align: middle;\n",
       "    }\n",
       "\n",
       "    .dataframe tbody tr th {\n",
       "        vertical-align: top;\n",
       "    }\n",
       "\n",
       "    .dataframe thead th {\n",
       "        text-align: right;\n",
       "    }\n",
       "</style>\n",
       "<table border=\"1\" class=\"dataframe\">\n",
       "  <thead>\n",
       "    <tr style=\"text-align: right;\">\n",
       "      <th></th>\n",
       "      <th>animal</th>\n",
       "      <th>pelo</th>\n",
       "      <th>penas</th>\n",
       "      <th>oviparo</th>\n",
       "      <th>mamifero</th>\n",
       "      <th>alado</th>\n",
       "      <th>aquatico</th>\n",
       "      <th>predador</th>\n",
       "      <th>dentes</th>\n",
       "      <th>colunas</th>\n",
       "      <th>respira_ar</th>\n",
       "      <th>venenoso</th>\n",
       "      <th>barbatana</th>\n",
       "      <th>pernas</th>\n",
       "      <th>cauda</th>\n",
       "      <th>domestico</th>\n",
       "      <th>tamanho</th>\n",
       "      <th>tipo</th>\n",
       "    </tr>\n",
       "  </thead>\n",
       "  <tbody>\n",
       "    <tr>\n",
       "      <th>0</th>\n",
       "      <td>aardvark</td>\n",
       "      <td>1</td>\n",
       "      <td>0</td>\n",
       "      <td>0</td>\n",
       "      <td>1</td>\n",
       "      <td>0</td>\n",
       "      <td>0</td>\n",
       "      <td>1</td>\n",
       "      <td>1</td>\n",
       "      <td>1</td>\n",
       "      <td>1</td>\n",
       "      <td>0</td>\n",
       "      <td>0</td>\n",
       "      <td>4</td>\n",
       "      <td>0</td>\n",
       "      <td>0</td>\n",
       "      <td>1</td>\n",
       "      <td>1</td>\n",
       "    </tr>\n",
       "    <tr>\n",
       "      <th>1</th>\n",
       "      <td>antelope</td>\n",
       "      <td>1</td>\n",
       "      <td>0</td>\n",
       "      <td>0</td>\n",
       "      <td>1</td>\n",
       "      <td>0</td>\n",
       "      <td>0</td>\n",
       "      <td>0</td>\n",
       "      <td>1</td>\n",
       "      <td>1</td>\n",
       "      <td>1</td>\n",
       "      <td>0</td>\n",
       "      <td>0</td>\n",
       "      <td>4</td>\n",
       "      <td>1</td>\n",
       "      <td>0</td>\n",
       "      <td>1</td>\n",
       "      <td>1</td>\n",
       "    </tr>\n",
       "    <tr>\n",
       "      <th>2</th>\n",
       "      <td>bass</td>\n",
       "      <td>0</td>\n",
       "      <td>0</td>\n",
       "      <td>1</td>\n",
       "      <td>0</td>\n",
       "      <td>0</td>\n",
       "      <td>1</td>\n",
       "      <td>1</td>\n",
       "      <td>1</td>\n",
       "      <td>1</td>\n",
       "      <td>0</td>\n",
       "      <td>0</td>\n",
       "      <td>1</td>\n",
       "      <td>0</td>\n",
       "      <td>1</td>\n",
       "      <td>0</td>\n",
       "      <td>0</td>\n",
       "      <td>4</td>\n",
       "    </tr>\n",
       "    <tr>\n",
       "      <th>3</th>\n",
       "      <td>bear</td>\n",
       "      <td>1</td>\n",
       "      <td>0</td>\n",
       "      <td>0</td>\n",
       "      <td>1</td>\n",
       "      <td>0</td>\n",
       "      <td>0</td>\n",
       "      <td>1</td>\n",
       "      <td>1</td>\n",
       "      <td>1</td>\n",
       "      <td>1</td>\n",
       "      <td>0</td>\n",
       "      <td>0</td>\n",
       "      <td>4</td>\n",
       "      <td>0</td>\n",
       "      <td>0</td>\n",
       "      <td>1</td>\n",
       "      <td>1</td>\n",
       "    </tr>\n",
       "    <tr>\n",
       "      <th>4</th>\n",
       "      <td>boar</td>\n",
       "      <td>1</td>\n",
       "      <td>0</td>\n",
       "      <td>0</td>\n",
       "      <td>1</td>\n",
       "      <td>0</td>\n",
       "      <td>0</td>\n",
       "      <td>1</td>\n",
       "      <td>1</td>\n",
       "      <td>1</td>\n",
       "      <td>1</td>\n",
       "      <td>0</td>\n",
       "      <td>0</td>\n",
       "      <td>4</td>\n",
       "      <td>1</td>\n",
       "      <td>0</td>\n",
       "      <td>1</td>\n",
       "      <td>1</td>\n",
       "    </tr>\n",
       "  </tbody>\n",
       "</table>\n",
       "</div>"
      ],
      "text/plain": [
       "     animal  pelo  penas  oviparo  mamifero  alado  aquatico  predador  \\\n",
       "0  aardvark     1      0        0         1      0         0         1   \n",
       "1  antelope     1      0        0         1      0         0         0   \n",
       "2      bass     0      0        1         0      0         1         1   \n",
       "3      bear     1      0        0         1      0         0         1   \n",
       "4      boar     1      0        0         1      0         0         1   \n",
       "\n",
       "   dentes  colunas  respira_ar  venenoso  barbatana  pernas  cauda  domestico  \\\n",
       "0       1        1           1         0          0       4      0          0   \n",
       "1       1        1           1         0          0       4      1          0   \n",
       "2       1        1           0         0          1       0      1          0   \n",
       "3       1        1           1         0          0       4      0          0   \n",
       "4       1        1           1         0          0       4      1          0   \n",
       "\n",
       "   tamanho  tipo  \n",
       "0        1     1  \n",
       "1        1     1  \n",
       "2        0     4  \n",
       "3        1     1  \n",
       "4        1     1  "
      ]
     },
     "execution_count": 2,
     "metadata": {},
     "output_type": "execute_result"
    }
   ],
   "source": [
    "dados = pd.read_csv('./datasets/zoo.data', \n",
    "                    names=['animal', 'pelo', 'penas', 'oviparo', 'mamifero', 'alado', 'aquatico', 'predador', 'dentes', 'colunas',\n",
    "                          'respira_ar', 'venenoso', 'barbatana', 'pernas', 'cauda', 'domestico', 'tamanho', 'tipo'],\n",
    "                    na_values='?')\n",
    "print(f'Linhas: {dados.shape[0]} | Colunas: {dados.shape[1]}')\n",
    "dados.head()"
   ]
  },
  {
   "cell_type": "code",
   "execution_count": 3,
   "metadata": {
    "ExecuteTime": {
     "end_time": "2021-05-05T10:19:17.814480Z",
     "start_time": "2021-05-05T10:19:17.707730Z"
    }
   },
   "outputs": [
    {
     "data": {
      "text/plain": [
       "animal        object\n",
       "pelo           int64\n",
       "penas          int64\n",
       "oviparo        int64\n",
       "mamifero       int64\n",
       "alado          int64\n",
       "aquatico       int64\n",
       "predador       int64\n",
       "dentes         int64\n",
       "colunas        int64\n",
       "respira_ar     int64\n",
       "venenoso       int64\n",
       "barbatana      int64\n",
       "pernas         int64\n",
       "cauda          int64\n",
       "domestico      int64\n",
       "tamanho        int64\n",
       "tipo           int64\n",
       "dtype: object"
      ]
     },
     "execution_count": 3,
     "metadata": {},
     "output_type": "execute_result"
    }
   ],
   "source": [
    "dados.dtypes"
   ]
  },
  {
   "cell_type": "markdown",
   "metadata": {
    "ExecuteTime": {
     "end_time": "2021-05-04T10:44:02.487192Z",
     "start_time": "2021-05-04T10:44:02.482865Z"
    }
   },
   "source": [
    "## Medidas de similaridade"
   ]
  },
  {
   "cell_type": "markdown",
   "metadata": {},
   "source": [
    "### Distância Euclideana"
   ]
  },
  {
   "cell_type": "code",
   "execution_count": 10,
   "metadata": {
    "ExecuteTime": {
     "end_time": "2021-05-05T10:25:14.346442Z",
     "start_time": "2021-05-05T10:25:14.338175Z"
    }
   },
   "outputs": [
    {
     "name": "stdout",
     "output_type": "stream",
     "text": [
      "[[0.         1.41421356 5.74456265 ... 1.         7.68114575 3.74165739]\n",
      " [1.41421356 0.         5.74456265 ... 1.         7.68114575 3.46410162]\n",
      " [5.74456265 5.74456265 0.         ... 5.65685425 4.         3.87298335]\n",
      " ...\n",
      " [1.         1.         5.65685425 ... 0.         7.74596669 3.60555128]\n",
      " [7.68114575 7.68114575 4.         ... 7.74596669 0.         5.74456265]\n",
      " [3.74165739 3.46410162 3.87298335 ... 3.60555128 5.74456265 0.        ]]\n"
     ]
    }
   ],
   "source": [
    "from scipy.spatial.distance import pdist, squareform\n",
    "distancia = squareform(pdist(dados.drop(['animal'], axis=1).values, metric='euclidean'))\n",
    "print(distancia)"
   ]
  },
  {
   "cell_type": "markdown",
   "metadata": {},
   "source": [
    "### Distância de Jaccard"
   ]
  },
  {
   "cell_type": "code",
   "execution_count": 12,
   "metadata": {
    "ExecuteTime": {
     "end_time": "2021-05-05T10:31:53.741432Z",
     "start_time": "2021-05-05T10:31:53.726071Z"
    }
   },
   "outputs": [
    {
     "name": "stdout",
     "output_type": "stream",
     "text": [
      "[[0.         0.2        0.76923077 ... 0.1        0.9        0.84615385]\n",
      " [0.2        0.         0.76923077 ... 0.1        0.9        0.75      ]\n",
      " [0.76923077 0.76923077 0.         ... 0.69230769 0.88888889 0.75      ]\n",
      " ...\n",
      " [0.1        0.1        0.69230769 ... 0.         0.90909091 0.76923077]\n",
      " [0.9        0.9        0.88888889 ... 0.90909091 0.         0.75      ]\n",
      " [0.84615385 0.75       0.75       ... 0.76923077 0.75       0.        ]]\n"
     ]
    }
   ],
   "source": [
    "distancia = squareform(pdist(dados.drop(['animal'], axis=1).values, metric='jaccard'))\n",
    "print(distancia)"
   ]
  },
  {
   "cell_type": "markdown",
   "metadata": {},
   "source": [
    "### Distância de Hamming"
   ]
  },
  {
   "cell_type": "code",
   "execution_count": 13,
   "metadata": {
    "ExecuteTime": {
     "end_time": "2021-05-05T10:33:22.658363Z",
     "start_time": "2021-05-05T10:33:22.650042Z"
    }
   },
   "outputs": [
    {
     "name": "stdout",
     "output_type": "stream",
     "text": [
      "[[0.         0.11764706 0.58823529 ... 0.05882353 0.52941176 0.64705882]\n",
      " [0.11764706 0.         0.58823529 ... 0.05882353 0.52941176 0.52941176]\n",
      " [0.58823529 0.58823529 0.         ... 0.52941176 0.47058824 0.52941176]\n",
      " ...\n",
      " [0.05882353 0.05882353 0.52941176 ... 0.         0.58823529 0.58823529]\n",
      " [0.52941176 0.52941176 0.47058824 ... 0.58823529 0.         0.35294118]\n",
      " [0.64705882 0.52941176 0.52941176 ... 0.58823529 0.35294118 0.        ]]\n"
     ]
    }
   ],
   "source": [
    "distancia = squareform(pdist(dados.drop(['animal'], axis=1).values, metric='hamming'))\n",
    "print(distancia)"
   ]
  },
  {
   "cell_type": "markdown",
   "metadata": {},
   "source": [
    "### Distância de Matching"
   ]
  },
  {
   "cell_type": "code",
   "execution_count": 26,
   "metadata": {
    "ExecuteTime": {
     "end_time": "2021-05-05T10:42:05.951418Z",
     "start_time": "2021-05-05T10:42:05.934707Z"
    }
   },
   "outputs": [
    {
     "name": "stdout",
     "output_type": "stream",
     "text": [
      "[[0.         0.11764706 0.58823529 ... 0.05882353 0.52941176 0.64705882]\n",
      " [0.11764706 0.         0.58823529 ... 0.05882353 0.52941176 0.52941176]\n",
      " [0.58823529 0.58823529 0.         ... 0.52941176 0.47058824 0.52941176]\n",
      " ...\n",
      " [0.05882353 0.05882353 0.52941176 ... 0.         0.58823529 0.58823529]\n",
      " [0.52941176 0.52941176 0.47058824 ... 0.58823529 0.         0.35294118]\n",
      " [0.64705882 0.52941176 0.52941176 ... 0.58823529 0.35294118 0.        ]]\n"
     ]
    }
   ],
   "source": [
    "distancia = squareform(pdist(dados.drop(['animal'], axis=1).values, metric='matching'))\n",
    "print(distancia)"
   ]
  }
 ],
 "metadata": {
  "hide_input": false,
  "kernelspec": {
   "display_name": "Python 3",
   "language": "python",
   "name": "python3"
  },
  "language_info": {
   "codemirror_mode": {
    "name": "ipython",
    "version": 3
   },
   "file_extension": ".py",
   "mimetype": "text/x-python",
   "name": "python",
   "nbconvert_exporter": "python",
   "pygments_lexer": "ipython3",
   "version": "3.7.5"
  },
  "toc": {
   "base_numbering": 1,
   "nav_menu": {},
   "number_sections": true,
   "sideBar": true,
   "skip_h1_title": false,
   "title_cell": "Table of Contents",
   "title_sidebar": "Contents",
   "toc_cell": false,
   "toc_position": {},
   "toc_section_display": true,
   "toc_window_display": false
  },
  "varInspector": {
   "cols": {
    "lenName": 16,
    "lenType": 16,
    "lenVar": 40
   },
   "kernels_config": {
    "python": {
     "delete_cmd_postfix": "",
     "delete_cmd_prefix": "del ",
     "library": "var_list.py",
     "varRefreshCmd": "print(var_dic_list())"
    },
    "r": {
     "delete_cmd_postfix": ") ",
     "delete_cmd_prefix": "rm(",
     "library": "var_list.r",
     "varRefreshCmd": "cat(var_dic_list()) "
    }
   },
   "types_to_exclude": [
    "module",
    "function",
    "builtin_function_or_method",
    "instance",
    "_Feature"
   ],
   "window_display": false
  }
 },
 "nbformat": 4,
 "nbformat_minor": 4
}
